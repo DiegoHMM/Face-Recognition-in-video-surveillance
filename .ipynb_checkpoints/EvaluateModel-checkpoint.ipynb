{
 "cells": [
  {
   "cell_type": "code",
   "execution_count": 1,
   "id": "99e3c33b",
   "metadata": {},
   "outputs": [],
   "source": [
    "from PIL import Image\n",
    "import numpy as np\n",
    "from numpy import asarray, expand_dims\n",
    "from os import listdir\n",
    "from os.path import isdir\n",
    "import pandas as pd\n",
    "import matplotlib.pyplot as plt"
   ]
  },
  {
   "cell_type": "code",
   "execution_count": 2,
   "id": "762d27f7",
   "metadata": {},
   "outputs": [],
   "source": [
    "df = pd.read_csv('faces_train_embeddings.csv',index_col=0)"
   ]
  },
  {
   "cell_type": "code",
   "execution_count": 3,
   "id": "dc2d0c6b",
   "metadata": {},
   "outputs": [
    {
     "data": {
      "text/html": [
       "<div>\n",
       "<style scoped>\n",
       "    .dataframe tbody tr th:only-of-type {\n",
       "        vertical-align: middle;\n",
       "    }\n",
       "\n",
       "    .dataframe tbody tr th {\n",
       "        vertical-align: top;\n",
       "    }\n",
       "\n",
       "    .dataframe thead th {\n",
       "        text-align: right;\n",
       "    }\n",
       "</style>\n",
       "<table border=\"1\" class=\"dataframe\">\n",
       "  <thead>\n",
       "    <tr style=\"text-align: right;\">\n",
       "      <th></th>\n",
       "      <th>0</th>\n",
       "      <th>1</th>\n",
       "      <th>2</th>\n",
       "      <th>3</th>\n",
       "      <th>4</th>\n",
       "      <th>5</th>\n",
       "      <th>6</th>\n",
       "      <th>7</th>\n",
       "      <th>8</th>\n",
       "      <th>9</th>\n",
       "      <th>...</th>\n",
       "      <th>119</th>\n",
       "      <th>120</th>\n",
       "      <th>121</th>\n",
       "      <th>122</th>\n",
       "      <th>123</th>\n",
       "      <th>124</th>\n",
       "      <th>125</th>\n",
       "      <th>126</th>\n",
       "      <th>127</th>\n",
       "      <th>target</th>\n",
       "    </tr>\n",
       "  </thead>\n",
       "  <tbody>\n",
       "    <tr>\n",
       "      <th>0</th>\n",
       "      <td>1.213353</td>\n",
       "      <td>-1.144619</td>\n",
       "      <td>0.788988</td>\n",
       "      <td>2.880328</td>\n",
       "      <td>-0.938568</td>\n",
       "      <td>0.860567</td>\n",
       "      <td>1.390656</td>\n",
       "      <td>0.029545</td>\n",
       "      <td>0.163235</td>\n",
       "      <td>1.676499</td>\n",
       "      <td>...</td>\n",
       "      <td>-0.580668</td>\n",
       "      <td>0.972024</td>\n",
       "      <td>-2.365301</td>\n",
       "      <td>-0.060380</td>\n",
       "      <td>0.014401</td>\n",
       "      <td>0.080425</td>\n",
       "      <td>0.198007</td>\n",
       "      <td>-0.177761</td>\n",
       "      <td>1.004912</td>\n",
       "      <td>Dessa</td>\n",
       "    </tr>\n",
       "    <tr>\n",
       "      <th>1</th>\n",
       "      <td>-0.041908</td>\n",
       "      <td>-1.512012</td>\n",
       "      <td>2.035212</td>\n",
       "      <td>2.274214</td>\n",
       "      <td>-0.945894</td>\n",
       "      <td>0.743784</td>\n",
       "      <td>0.411676</td>\n",
       "      <td>0.108635</td>\n",
       "      <td>-0.127354</td>\n",
       "      <td>1.084895</td>\n",
       "      <td>...</td>\n",
       "      <td>-0.856824</td>\n",
       "      <td>1.227236</td>\n",
       "      <td>-3.237790</td>\n",
       "      <td>-0.557948</td>\n",
       "      <td>0.347476</td>\n",
       "      <td>-0.140043</td>\n",
       "      <td>-0.301792</td>\n",
       "      <td>-0.509197</td>\n",
       "      <td>0.234957</td>\n",
       "      <td>Dessa</td>\n",
       "    </tr>\n",
       "    <tr>\n",
       "      <th>2</th>\n",
       "      <td>0.526223</td>\n",
       "      <td>-1.139701</td>\n",
       "      <td>1.672150</td>\n",
       "      <td>1.919619</td>\n",
       "      <td>-0.234067</td>\n",
       "      <td>1.088168</td>\n",
       "      <td>1.863706</td>\n",
       "      <td>0.068794</td>\n",
       "      <td>0.146336</td>\n",
       "      <td>0.453393</td>\n",
       "      <td>...</td>\n",
       "      <td>-0.832507</td>\n",
       "      <td>1.445205</td>\n",
       "      <td>-2.139270</td>\n",
       "      <td>0.106163</td>\n",
       "      <td>-0.337669</td>\n",
       "      <td>-0.144526</td>\n",
       "      <td>-0.601809</td>\n",
       "      <td>-0.681800</td>\n",
       "      <td>-0.236376</td>\n",
       "      <td>Dessa</td>\n",
       "    </tr>\n",
       "    <tr>\n",
       "      <th>3</th>\n",
       "      <td>0.599688</td>\n",
       "      <td>-1.704354</td>\n",
       "      <td>0.865379</td>\n",
       "      <td>2.119497</td>\n",
       "      <td>1.191909</td>\n",
       "      <td>-0.496286</td>\n",
       "      <td>0.680909</td>\n",
       "      <td>-0.419128</td>\n",
       "      <td>0.064558</td>\n",
       "      <td>1.758725</td>\n",
       "      <td>...</td>\n",
       "      <td>-0.824497</td>\n",
       "      <td>1.263108</td>\n",
       "      <td>-2.435442</td>\n",
       "      <td>0.266310</td>\n",
       "      <td>-1.422899</td>\n",
       "      <td>-0.381015</td>\n",
       "      <td>-1.371278</td>\n",
       "      <td>-0.271364</td>\n",
       "      <td>-0.089289</td>\n",
       "      <td>Dessa</td>\n",
       "    </tr>\n",
       "    <tr>\n",
       "      <th>4</th>\n",
       "      <td>1.863101</td>\n",
       "      <td>-1.132002</td>\n",
       "      <td>1.799139</td>\n",
       "      <td>1.644875</td>\n",
       "      <td>-0.805287</td>\n",
       "      <td>0.042099</td>\n",
       "      <td>1.489610</td>\n",
       "      <td>-0.411764</td>\n",
       "      <td>-0.192317</td>\n",
       "      <td>0.296455</td>\n",
       "      <td>...</td>\n",
       "      <td>-1.543530</td>\n",
       "      <td>0.461310</td>\n",
       "      <td>-1.877283</td>\n",
       "      <td>0.582882</td>\n",
       "      <td>-0.875442</td>\n",
       "      <td>-0.894857</td>\n",
       "      <td>0.470943</td>\n",
       "      <td>-0.577138</td>\n",
       "      <td>-0.278939</td>\n",
       "      <td>Dessa</td>\n",
       "    </tr>\n",
       "  </tbody>\n",
       "</table>\n",
       "<p>5 rows × 129 columns</p>\n",
       "</div>"
      ],
      "text/plain": [
       "          0         1         2         3         4         5         6  \\\n",
       "0  1.213353 -1.144619  0.788988  2.880328 -0.938568  0.860567  1.390656   \n",
       "1 -0.041908 -1.512012  2.035212  2.274214 -0.945894  0.743784  0.411676   \n",
       "2  0.526223 -1.139701  1.672150  1.919619 -0.234067  1.088168  1.863706   \n",
       "3  0.599688 -1.704354  0.865379  2.119497  1.191909 -0.496286  0.680909   \n",
       "4  1.863101 -1.132002  1.799139  1.644875 -0.805287  0.042099  1.489610   \n",
       "\n",
       "          7         8         9  ...       119       120       121       122  \\\n",
       "0  0.029545  0.163235  1.676499  ... -0.580668  0.972024 -2.365301 -0.060380   \n",
       "1  0.108635 -0.127354  1.084895  ... -0.856824  1.227236 -3.237790 -0.557948   \n",
       "2  0.068794  0.146336  0.453393  ... -0.832507  1.445205 -2.139270  0.106163   \n",
       "3 -0.419128  0.064558  1.758725  ... -0.824497  1.263108 -2.435442  0.266310   \n",
       "4 -0.411764 -0.192317  0.296455  ... -1.543530  0.461310 -1.877283  0.582882   \n",
       "\n",
       "        123       124       125       126       127  target  \n",
       "0  0.014401  0.080425  0.198007 -0.177761  1.004912   Dessa  \n",
       "1  0.347476 -0.140043 -0.301792 -0.509197  0.234957   Dessa  \n",
       "2 -0.337669 -0.144526 -0.601809 -0.681800 -0.236376   Dessa  \n",
       "3 -1.422899 -0.381015 -1.371278 -0.271364 -0.089289   Dessa  \n",
       "4 -0.875442 -0.894857  0.470943 -0.577138 -0.278939   Dessa  \n",
       "\n",
       "[5 rows x 129 columns]"
      ]
     },
     "execution_count": 3,
     "metadata": {},
     "output_type": "execute_result"
    }
   ],
   "source": [
    "df.head(5)"
   ]
  },
  {
   "cell_type": "code",
   "execution_count": 4,
   "id": "b945f366",
   "metadata": {},
   "outputs": [],
   "source": [
    "# X = df - coluna target\n",
    "X = np.array(df.drop('target', axis=1))\n",
    "# y = coluna target\n",
    "y = np.array(df.target)"
   ]
  },
  {
   "cell_type": "code",
   "execution_count": 5,
   "id": "f85b3e23",
   "metadata": {},
   "outputs": [],
   "source": [
    "#Shuffle dataset\n",
    "from sklearn.utils import shuffle\n",
    "trainX, trainY = shuffle (X,y, random_state=0)"
   ]
  },
  {
   "cell_type": "code",
   "execution_count": 6,
   "id": "5f25bf8b",
   "metadata": {},
   "outputs": [],
   "source": [
    "#hot-encode labels\n",
    "from sklearn.preprocessing import LabelEncoder\n",
    "\n",
    "out_encoder = LabelEncoder()\n",
    "out_encoder.fit(trainY)\n",
    "trainY = out_encoder.transform(trainY)"
   ]
  },
  {
   "cell_type": "code",
   "execution_count": 7,
   "id": "21de7333",
   "metadata": {},
   "outputs": [
    {
     "data": {
      "text/html": [
       "<div>\n",
       "<style scoped>\n",
       "    .dataframe tbody tr th:only-of-type {\n",
       "        vertical-align: middle;\n",
       "    }\n",
       "\n",
       "    .dataframe tbody tr th {\n",
       "        vertical-align: top;\n",
       "    }\n",
       "\n",
       "    .dataframe thead th {\n",
       "        text-align: right;\n",
       "    }\n",
       "</style>\n",
       "<table border=\"1\" class=\"dataframe\">\n",
       "  <thead>\n",
       "    <tr style=\"text-align: right;\">\n",
       "      <th></th>\n",
       "      <th>0</th>\n",
       "      <th>1</th>\n",
       "      <th>2</th>\n",
       "      <th>3</th>\n",
       "      <th>4</th>\n",
       "      <th>5</th>\n",
       "      <th>6</th>\n",
       "      <th>7</th>\n",
       "      <th>8</th>\n",
       "      <th>9</th>\n",
       "      <th>...</th>\n",
       "      <th>119</th>\n",
       "      <th>120</th>\n",
       "      <th>121</th>\n",
       "      <th>122</th>\n",
       "      <th>123</th>\n",
       "      <th>124</th>\n",
       "      <th>125</th>\n",
       "      <th>126</th>\n",
       "      <th>127</th>\n",
       "      <th>target</th>\n",
       "    </tr>\n",
       "  </thead>\n",
       "  <tbody>\n",
       "    <tr>\n",
       "      <th>0</th>\n",
       "      <td>0.499881</td>\n",
       "      <td>-1.630776</td>\n",
       "      <td>0.796671</td>\n",
       "      <td>1.972127</td>\n",
       "      <td>-0.204256</td>\n",
       "      <td>0.995205</td>\n",
       "      <td>0.919415</td>\n",
       "      <td>0.039377</td>\n",
       "      <td>0.615046</td>\n",
       "      <td>1.901233</td>\n",
       "      <td>...</td>\n",
       "      <td>-1.290182</td>\n",
       "      <td>1.117842</td>\n",
       "      <td>-2.351617</td>\n",
       "      <td>0.041959</td>\n",
       "      <td>-0.503408</td>\n",
       "      <td>-0.427586</td>\n",
       "      <td>0.163777</td>\n",
       "      <td>0.211069</td>\n",
       "      <td>-0.037435</td>\n",
       "      <td>Dessa</td>\n",
       "    </tr>\n",
       "    <tr>\n",
       "      <th>1</th>\n",
       "      <td>0.822129</td>\n",
       "      <td>-1.647281</td>\n",
       "      <td>1.289761</td>\n",
       "      <td>3.215601</td>\n",
       "      <td>-0.218107</td>\n",
       "      <td>0.003105</td>\n",
       "      <td>1.771300</td>\n",
       "      <td>-0.038451</td>\n",
       "      <td>0.293706</td>\n",
       "      <td>0.437481</td>\n",
       "      <td>...</td>\n",
       "      <td>-1.228728</td>\n",
       "      <td>0.526377</td>\n",
       "      <td>-2.503844</td>\n",
       "      <td>0.434630</td>\n",
       "      <td>-0.528629</td>\n",
       "      <td>0.291434</td>\n",
       "      <td>0.877600</td>\n",
       "      <td>-0.228823</td>\n",
       "      <td>1.228435</td>\n",
       "      <td>Dessa</td>\n",
       "    </tr>\n",
       "    <tr>\n",
       "      <th>2</th>\n",
       "      <td>0.178499</td>\n",
       "      <td>-0.738474</td>\n",
       "      <td>1.945524</td>\n",
       "      <td>1.554863</td>\n",
       "      <td>-0.026842</td>\n",
       "      <td>-0.376412</td>\n",
       "      <td>1.179521</td>\n",
       "      <td>0.173477</td>\n",
       "      <td>-0.055087</td>\n",
       "      <td>0.476357</td>\n",
       "      <td>...</td>\n",
       "      <td>-0.949291</td>\n",
       "      <td>0.588638</td>\n",
       "      <td>-1.715351</td>\n",
       "      <td>0.139563</td>\n",
       "      <td>-1.244503</td>\n",
       "      <td>-0.543850</td>\n",
       "      <td>1.229014</td>\n",
       "      <td>0.494149</td>\n",
       "      <td>1.213320</td>\n",
       "      <td>Dessa</td>\n",
       "    </tr>\n",
       "    <tr>\n",
       "      <th>3</th>\n",
       "      <td>-0.633645</td>\n",
       "      <td>-0.474085</td>\n",
       "      <td>0.930753</td>\n",
       "      <td>1.781863</td>\n",
       "      <td>0.019367</td>\n",
       "      <td>-0.834789</td>\n",
       "      <td>0.578619</td>\n",
       "      <td>-0.645090</td>\n",
       "      <td>0.264905</td>\n",
       "      <td>0.532818</td>\n",
       "      <td>...</td>\n",
       "      <td>0.720826</td>\n",
       "      <td>0.095187</td>\n",
       "      <td>-1.624777</td>\n",
       "      <td>0.789543</td>\n",
       "      <td>-1.676740</td>\n",
       "      <td>-0.392514</td>\n",
       "      <td>0.970259</td>\n",
       "      <td>0.263773</td>\n",
       "      <td>1.371006</td>\n",
       "      <td>Dessa</td>\n",
       "    </tr>\n",
       "    <tr>\n",
       "      <th>4</th>\n",
       "      <td>0.821502</td>\n",
       "      <td>-1.212845</td>\n",
       "      <td>2.068369</td>\n",
       "      <td>1.801893</td>\n",
       "      <td>-0.253924</td>\n",
       "      <td>1.087529</td>\n",
       "      <td>1.203050</td>\n",
       "      <td>0.247818</td>\n",
       "      <td>0.256249</td>\n",
       "      <td>0.156297</td>\n",
       "      <td>...</td>\n",
       "      <td>-1.363836</td>\n",
       "      <td>0.694958</td>\n",
       "      <td>-1.600671</td>\n",
       "      <td>-0.257767</td>\n",
       "      <td>-0.401714</td>\n",
       "      <td>0.255922</td>\n",
       "      <td>-0.098475</td>\n",
       "      <td>-0.531597</td>\n",
       "      <td>0.392977</td>\n",
       "      <td>Diego</td>\n",
       "    </tr>\n",
       "  </tbody>\n",
       "</table>\n",
       "<p>5 rows × 129 columns</p>\n",
       "</div>"
      ],
      "text/plain": [
       "          0         1         2         3         4         5         6  \\\n",
       "0  0.499881 -1.630776  0.796671  1.972127 -0.204256  0.995205  0.919415   \n",
       "1  0.822129 -1.647281  1.289761  3.215601 -0.218107  0.003105  1.771300   \n",
       "2  0.178499 -0.738474  1.945524  1.554863 -0.026842 -0.376412  1.179521   \n",
       "3 -0.633645 -0.474085  0.930753  1.781863  0.019367 -0.834789  0.578619   \n",
       "4  0.821502 -1.212845  2.068369  1.801893 -0.253924  1.087529  1.203050   \n",
       "\n",
       "          7         8         9  ...       119       120       121       122  \\\n",
       "0  0.039377  0.615046  1.901233  ... -1.290182  1.117842 -2.351617  0.041959   \n",
       "1 -0.038451  0.293706  0.437481  ... -1.228728  0.526377 -2.503844  0.434630   \n",
       "2  0.173477 -0.055087  0.476357  ... -0.949291  0.588638 -1.715351  0.139563   \n",
       "3 -0.645090  0.264905  0.532818  ...  0.720826  0.095187 -1.624777  0.789543   \n",
       "4  0.247818  0.256249  0.156297  ... -1.363836  0.694958 -1.600671 -0.257767   \n",
       "\n",
       "        123       124       125       126       127  target  \n",
       "0 -0.503408 -0.427586  0.163777  0.211069 -0.037435   Dessa  \n",
       "1 -0.528629  0.291434  0.877600 -0.228823  1.228435   Dessa  \n",
       "2 -1.244503 -0.543850  1.229014  0.494149  1.213320   Dessa  \n",
       "3 -1.676740 -0.392514  0.970259  0.263773  1.371006   Dessa  \n",
       "4 -0.401714  0.255922 -0.098475 -0.531597  0.392977   Diego  \n",
       "\n",
       "[5 rows x 129 columns]"
      ]
     },
     "execution_count": 7,
     "metadata": {},
     "output_type": "execute_result"
    }
   ],
   "source": [
    "#validation\n",
    "df_val = pd.read_csv('faces_validation_embeddings.csv',index_col=0)\n",
    "df_val.head(5)"
   ]
  },
  {
   "cell_type": "code",
   "execution_count": 8,
   "id": "0110a166",
   "metadata": {},
   "outputs": [],
   "source": [
    "#split X and Y validation\n",
    "valX = np.array(df_val.drop('target',axis=1))\n",
    "valY = np.array(df_val.target)"
   ]
  },
  {
   "cell_type": "code",
   "execution_count": 9,
   "id": "f5246be0",
   "metadata": {},
   "outputs": [],
   "source": [
    "#hot encoder validation Y\n",
    "out_encoder.fit(valY)\n",
    "valY = out_encoder.transform(valY)"
   ]
  },
  {
   "cell_type": "markdown",
   "id": "33790bd4",
   "metadata": {},
   "source": [
    "# Evaluating algorithms"
   ]
  },
  {
   "cell_type": "markdown",
   "id": "2b2b4f91",
   "metadata": {},
   "source": [
    "### KNN"
   ]
  },
  {
   "cell_type": "code",
   "execution_count": 10,
   "id": "47263773",
   "metadata": {},
   "outputs": [],
   "source": [
    "\n",
    "from sklearn.neighbors import KNeighborsClassifier"
   ]
  },
  {
   "cell_type": "code",
   "execution_count": 11,
   "id": "f23f642d",
   "metadata": {},
   "outputs": [],
   "source": [
    "knn = KNeighborsClassifier(n_neighbors=5)"
   ]
  },
  {
   "cell_type": "code",
   "execution_count": 12,
   "id": "3b744c6c",
   "metadata": {},
   "outputs": [
    {
     "data": {
      "text/plain": [
       "KNeighborsClassifier()"
      ]
     },
     "execution_count": 12,
     "metadata": {},
     "output_type": "execute_result"
    }
   ],
   "source": [
    "knn.fit(trainX, trainY)"
   ]
  },
  {
   "cell_type": "code",
   "execution_count": 13,
   "id": "35789d57",
   "metadata": {},
   "outputs": [],
   "source": [
    "#evaluate the knn model\n",
    "yhat_train = knn.predict(trainX)\n",
    "yhat_val = knn.predict(valX)"
   ]
  },
  {
   "cell_type": "code",
   "execution_count": 14,
   "id": "57880ce1",
   "metadata": {},
   "outputs": [
    {
     "data": {
      "text/plain": [
       "array([0, 0, 0, 0, 1, 1, 1, 1, 1, 1, 1])"
      ]
     },
     "execution_count": 14,
     "metadata": {},
     "output_type": "execute_result"
    }
   ],
   "source": [
    "valY"
   ]
  },
  {
   "cell_type": "code",
   "execution_count": 15,
   "id": "500d0a83",
   "metadata": {},
   "outputs": [
    {
     "data": {
      "text/plain": [
       "(11,)"
      ]
     },
     "execution_count": 15,
     "metadata": {},
     "output_type": "execute_result"
    }
   ],
   "source": [
    "yhat_val.shape"
   ]
  },
  {
   "cell_type": "code",
   "execution_count": 16,
   "id": "659d99b8",
   "metadata": {},
   "outputs": [],
   "source": [
    "from sklearn.metrics import confusion_matrix\n",
    "def print_confusion_matrix(model_name, valY, yhat_val):\n",
    "    cm = confusion_matrix(valY, yhat_val)\n",
    "    total = sum(sum(cm))\n",
    "    acc = (cm[0,0]+cm[1,1])/ total\n",
    "    sensitivity = cm[0,0]/(cm[0,0] + cm[0,1])\n",
    "    specificity = cm[1,1]/(cm[1,0] + cm[1,1])\n",
    "    \n",
    "    print(\"Modelo: {}\".format(model_name))\n",
    "    print(\"Acurácia: {:4f}\".format(acc))\n",
    "    print(\"Sensitividade: {:4f}\".format(sensitivity))\n",
    "    print(\"Especificidade: {:4f}\".format(specificity))\n",
    "    \n",
    "    from mlxtend.plotting import plot_confusion_matrix\n",
    "    fig, ax = plot_confusion_matrix(conf_mat=cm, figsize=(5,5))\n",
    "    plt.show()"
   ]
  },
  {
   "cell_type": "code",
   "execution_count": 17,
   "id": "97b8214b",
   "metadata": {},
   "outputs": [
    {
     "name": "stdout",
     "output_type": "stream",
     "text": [
      "Modelo: KNN\n",
      "Acurácia: 0.727273\n",
      "Sensitividade: 0.250000\n",
      "Especificidade: 1.000000\n"
     ]
    },
    {
     "data": {
      "image/png": "[encoded data removed]",
      "text/plain": [
       "<Figure size 360x360 with 1 Axes>"
      ]
     },
     "metadata": {
      "needs_background": "light"
     },
     "output_type": "display_data"
    }
   ],
   "source": [
    "print_confusion_matrix(\"KNN\",valY,yhat_val)"
   ]
  },
  {
   "cell_type": "markdown",
   "id": "e1c8159d",
   "metadata": {},
   "source": [
    "### SVM"
   ]
  },
  {
   "cell_type": "code",
   "execution_count": 18,
   "id": "746bb717",
   "metadata": {},
   "outputs": [
    {
     "data": {
      "text/plain": [
       "SVC()"
      ]
     },
     "execution_count": 18,
     "metadata": {},
     "output_type": "execute_result"
    }
   ],
   "source": [
    "from sklearn import svm\n",
    "\n",
    "svm = svm.SVC()\n",
    "svm.fit(trainX, trainY)"
   ]
  },
  {
   "cell_type": "code",
   "execution_count": 19,
   "id": "6dfd3647",
   "metadata": {},
   "outputs": [],
   "source": [
    "#evaluate the knn model\n",
    "yhat_train = svm.predict(trainX)\n",
    "yhat_val = svm.predict(valX)"
   ]
  },
  {
   "cell_type": "code",
   "execution_count": 20,
   "id": "3524da54",
   "metadata": {
    "scrolled": true
   },
   "outputs": [
    {
     "name": "stdout",
     "output_type": "stream",
     "text": [
      "Modelo: SVM\n",
      "Acurácia: 0.727273\n",
      "Sensitividade: 0.250000\n",
      "Especificidade: 1.000000\n"
     ]
    },
    {
     "data": {
      "image/png": "[encoded data removed]",
      "text/plain": [
       "<Figure size 360x360 with 1 Axes>"
      ]
     },
     "metadata": {
      "needs_background": "light"
     },
     "output_type": "display_data"
    }
   ],
   "source": [
    "print_confusion_matrix(\"SVM\", valY, yhat_val)"
   ]
  },
  {
   "cell_type": "markdown",
   "id": "3baf368f",
   "metadata": {},
   "source": [
    "### Multilayer perceptron"
   ]
  },
  {
   "cell_type": "code",
   "execution_count": 21,
   "id": "779c752e",
   "metadata": {},
   "outputs": [],
   "source": [
    "from tensorflow.keras.utils import to_categorical"
   ]
  },
  {
   "cell_type": "code",
   "execution_count": 22,
   "id": "e448d611",
   "metadata": {},
   "outputs": [],
   "source": [
    "#classe vira uma posicao (class 1, class 2)\n",
    "trainY = to_categorical(trainY)\n",
    "valY = to_categorical(valY)"
   ]
  },
  {
   "cell_type": "code",
   "execution_count": 23,
   "id": "cd6261d5",
   "metadata": {},
   "outputs": [],
   "source": [
    "from tensorflow.keras import models\n",
    "from tensorflow.keras import layers"
   ]
  },
  {
   "cell_type": "code",
   "execution_count": 24,
   "id": "943a32c8",
   "metadata": {},
   "outputs": [
    {
     "name": "stdout",
     "output_type": "stream",
     "text": [
      "Model: \"sequential\"\n",
      "_________________________________________________________________\n",
      "Layer (type)                 Output Shape              Param #   \n",
      "=================================================================\n",
      "dense (Dense)                (None, 64)                8256      \n",
      "_________________________________________________________________\n",
      "dropout (Dropout)            (None, 64)                0         \n",
      "_________________________________________________________________\n",
      "dense_1 (Dense)              (None, 2)                 130       \n",
      "=================================================================\n",
      "Total params: 8,386\n",
      "Trainable params: 8,386\n",
      "Non-trainable params: 0\n",
      "_________________________________________________________________\n"
     ]
    }
   ],
   "source": [
    "model = models.Sequential()\n",
    "model.add(layers.Dense(64,activation=\"relu\",input_shape=(128,)))\n",
    "model.add(layers.Dropout(0.5))\n",
    "model.add(layers.Dense(2,activation=\"softmax\"))\n",
    "\n",
    "model.summary()"
   ]
  },
  {
   "cell_type": "code",
   "execution_count": 25,
   "id": "141f980a",
   "metadata": {},
   "outputs": [],
   "source": [
    "import tensorflow as tf\n",
    "model.compile(optimizer=\"adam\",\n",
    "             loss = \"categorical_crossentropy\",\n",
    "             metrics = ['accuracy']\n",
    "             #metrics = [tf.keras.metrics.Recall()]\n",
    "             )\n",
    "\n"
   ]
  },
  {
   "cell_type": "code",
   "execution_count": 26,
   "id": "a599319a",
   "metadata": {
    "scrolled": false
   },
   "outputs": [
    {
     "name": "stdout",
     "output_type": "stream",
     "text": [
      "Train on 57 samples\n",
      "Epoch 1/15\n",
      "57/57 [==============================] - 1s 11ms/sample - loss: 1.1176 - accuracy: 0.6140\n",
      "Epoch 2/15\n",
      "57/57 [==============================] - 0s 367us/sample - loss: 0.7743 - accuracy: 0.7719\n",
      "Epoch 3/15\n",
      "57/57 [==============================] - 0s 437us/sample - loss: 0.6704 - accuracy: 0.7719\n",
      "Epoch 4/15\n",
      "57/57 [==============================] - 0s 385us/sample - loss: 0.5850 - accuracy: 0.7193\n",
      "Epoch 5/15\n",
      "57/57 [==============================] - 0s 315us/sample - loss: 0.4774 - accuracy: 0.8246\n",
      "Epoch 6/15\n",
      "57/57 [==============================] - 0s 341us/sample - loss: 0.4626 - accuracy: 0.8421\n",
      "Epoch 7/15\n",
      "57/57 [==============================] - 0s 350us/sample - loss: 0.3637 - accuracy: 0.8596\n",
      "Epoch 8/15\n",
      "57/57 [==============================] - 0s 297us/sample - loss: 0.3980 - accuracy: 0.8070\n",
      "Epoch 9/15\n",
      "57/57 [==============================] - 0s 280us/sample - loss: 0.3793 - accuracy: 0.7895\n",
      "Epoch 10/15\n",
      "57/57 [==============================] - 0s 367us/sample - loss: 0.3216 - accuracy: 0.8421\n",
      "Epoch 11/15\n",
      "57/57 [==============================] - 0s 402us/sample - loss: 0.2219 - accuracy: 0.9123\n",
      "Epoch 12/15\n",
      "57/57 [==============================] - 0s 402us/sample - loss: 0.3326 - accuracy: 0.8421\n",
      "Epoch 13/15\n",
      "57/57 [==============================] - 0s 315us/sample - loss: 0.3349 - accuracy: 0.9123\n",
      "Epoch 14/15\n",
      "57/57 [==============================] - 0s 332us/sample - loss: 0.2491 - accuracy: 0.8772\n",
      "Epoch 15/15\n",
      "57/57 [==============================] - 0s 295us/sample - loss: 0.2579 - accuracy: 0.8421\n"
     ]
    },
    {
     "data": {
      "text/plain": [
       "<tensorflow.python.keras.callbacks.History at 0x17fe8c5d148>"
      ]
     },
     "execution_count": 26,
     "metadata": {},
     "output_type": "execute_result"
    }
   ],
   "source": [
    "model.fit(trainX, trainY, epochs=15, batch_size=8)\n",
    "model.save('faces.h5')"
   ]
  },
  {
   "cell_type": "code",
   "execution_count": 27,
   "id": "ec3721b6",
   "metadata": {},
   "outputs": [],
   "source": [
    "#evaluate the knn model\n",
    "yhat_train = model.predict(trainX)\n",
    "yhat_val = model.predict(valX)"
   ]
  },
  {
   "cell_type": "code",
   "execution_count": 28,
   "id": "e6be4ea6",
   "metadata": {},
   "outputs": [],
   "source": [
    "yhat_val = np.argmax(yhat_val, axis=1)"
   ]
  },
  {
   "cell_type": "code",
   "execution_count": null,
   "id": "e3aadca9",
   "metadata": {},
   "outputs": [
    {
     "name": "stderr",
     "output_type": "stream",
     "text": [
      "ERROR:root:Internal Python error in the inspect module.\n",
      "Below is the traceback from this internal error.\n",
      "\n",
      "ERROR:root:Internal Python error in the inspect module.\n",
      "Below is the traceback from this internal error.\n",
      "\n",
      "ERROR:root:Internal Python error in the inspect module.\n",
      "Below is the traceback from this internal error.\n",
      "\n"
     ]
    },
    {
     "name": "stdout",
     "output_type": "stream",
     "text": [
      "Traceback (most recent call last):\n",
      "  File \"C:\\Users\\diego\\.conda\\envs\\py34\\lib\\site-packages\\IPython\\core\\interactiveshell.py\", line 3444, in run_code\n",
      "    exec(code_obj, self.user_global_ns, self.user_ns)\n",
      "  File \"C:\\Users\\diego\\AppData\\Local\\Temp/ipykernel_16016/1887838099.py\", line 1, in <module>\n",
      "    print_confusion_matrix(\"Multilayer perceptron\", valY, yhat_val)\n",
      "  File \"C:\\Users\\diego\\AppData\\Local\\Temp/ipykernel_16016/2703274806.py\", line 3, in print_confusion_matrix\n",
      "    cm = confusion_matrix(valY, yhat_val)\n",
      "  File \"C:\\Users\\diego\\.conda\\envs\\py34\\lib\\site-packages\\sklearn\\metrics\\_classification.py\", line 302, in confusion_matrix\n",
      "    y_type, y_true, y_pred = _check_targets(y_true, y_pred)\n",
      "  File \"C:\\Users\\diego\\.conda\\envs\\py34\\lib\\site-packages\\sklearn\\metrics\\_classification.py\", line 95, in _check_targets\n",
      "    type_true, type_pred\n",
      "ValueError: Classification metrics can't handle a mix of multilabel-indicator and binary targets\n",
      "\n",
      "During handling of the above exception, another exception occurred:\n",
      "\n",
      "Traceback (most recent call last):\n",
      "  File \"C:\\Users\\diego\\.conda\\envs\\py34\\lib\\site-packages\\IPython\\core\\interactiveshell.py\", line 2064, in showtraceback\n",
      "    stb = value._render_traceback_()\n",
      "AttributeError: 'ValueError' object has no attribute '_render_traceback_'\n",
      "\n",
      "During handling of the above exception, another exception occurred:\n",
      "\n",
      "Traceback (most recent call last):\n",
      "  File \"C:\\Users\\diego\\.conda\\envs\\py34\\lib\\site-packages\\IPython\\core\\ultratb.py\", line 1101, in get_records\n",
      "    return _fixed_getinnerframes(etb, number_of_lines_of_context, tb_offset)\n",
      "  File \"C:\\Users\\diego\\.conda\\envs\\py34\\lib\\site-packages\\IPython\\core\\ultratb.py\", line 248, in wrapped\n",
      "    return f(*args, **kwargs)\n",
      "  File \"C:\\Users\\diego\\.conda\\envs\\py34\\lib\\site-packages\\IPython\\core\\ultratb.py\", line 281, in _fixed_getinnerframes\n",
      "    records = fix_frame_records_filenames(inspect.getinnerframes(etb, context))\n",
      "  File \"C:\\Users\\diego\\.conda\\envs\\py34\\lib\\inspect.py\", line 1502, in getinnerframes\n",
      "    frameinfo = (tb.tb_frame,) + getframeinfo(tb, context)\n",
      "  File \"C:\\Users\\diego\\.conda\\envs\\py34\\lib\\inspect.py\", line 1460, in getframeinfo\n",
      "    filename = getsourcefile(frame) or getfile(frame)\n",
      "  File \"C:\\Users\\diego\\.conda\\envs\\py34\\lib\\inspect.py\", line 696, in getsourcefile\n",
      "    if getattr(getmodule(object, filename), '__loader__', None) is not None:\n",
      "  File \"C:\\Users\\diego\\.conda\\envs\\py34\\lib\\inspect.py\", line 733, in getmodule\n",
      "    if ismodule(module) and hasattr(module, '__file__'):\n",
      "  File \"C:\\Users\\diego\\.conda\\envs\\py34\\lib\\site-packages\\tensorflow\\__init__.py\", line 50, in __getattr__\n",
      "    module = self._load()\n",
      "  File \"C:\\Users\\diego\\.conda\\envs\\py34\\lib\\site-packages\\tensorflow\\__init__.py\", line 44, in _load\n",
      "    module = _importlib.import_module(self.__name__)\n",
      "  File \"C:\\Users\\diego\\.conda\\envs\\py34\\lib\\importlib\\__init__.py\", line 127, in import_module\n",
      "    return _bootstrap._gcd_import(name[level:], package, level)\n",
      "  File \"<frozen importlib._bootstrap>\", line 1006, in _gcd_import\n",
      "  File \"<frozen importlib._bootstrap>\", line 983, in _find_and_load\n",
      "  File \"<frozen importlib._bootstrap>\", line 965, in _find_and_load_unlocked\n",
      "ModuleNotFoundError: No module named 'tensorflow_core.estimator'\n",
      "Traceback (most recent call last):\n",
      "  File \"C:\\Users\\diego\\.conda\\envs\\py34\\lib\\site-packages\\IPython\\core\\interactiveshell.py\", line 3444, in run_code\n",
      "    exec(code_obj, self.user_global_ns, self.user_ns)\n",
      "  File \"C:\\Users\\diego\\AppData\\Local\\Temp/ipykernel_16016/1887838099.py\", line 1, in <module>\n",
      "    print_confusion_matrix(\"Multilayer perceptron\", valY, yhat_val)\n",
      "  File \"C:\\Users\\diego\\AppData\\Local\\Temp/ipykernel_16016/2703274806.py\", line 3, in print_confusion_matrix\n",
      "    cm = confusion_matrix(valY, yhat_val)\n",
      "  File \"C:\\Users\\diego\\.conda\\envs\\py34\\lib\\site-packages\\sklearn\\metrics\\_classification.py\", line 302, in confusion_matrix\n",
      "    y_type, y_true, y_pred = _check_targets(y_true, y_pred)\n",
      "  File \"C:\\Users\\diego\\.conda\\envs\\py34\\lib\\site-packages\\sklearn\\metrics\\_classification.py\", line 95, in _check_targets\n",
      "    type_true, type_pred\n",
      "ValueError: Classification metrics can't handle a mix of multilabel-indicator and binary targets\n",
      "\n",
      "During handling of the above exception, another exception occurred:\n",
      "\n",
      "Traceback (most recent call last):\n",
      "  File \"C:\\Users\\diego\\.conda\\envs\\py34\\lib\\site-packages\\IPython\\core\\interactiveshell.py\", line 2064, in showtraceback\n",
      "    stb = value._render_traceback_()\n",
      "AttributeError: 'ValueError' object has no attribute '_render_traceback_'\n",
      "\n",
      "During handling of the above exception, another exception occurred:\n",
      "\n",
      "Traceback (most recent call last):\n",
      "  File \"C:\\Users\\diego\\.conda\\envs\\py34\\lib\\site-packages\\IPython\\core\\interactiveshell.py\", line 3364, in run_ast_nodes\n",
      "    if (await self.run_code(code, result,  async_=asy)):\n",
      "  File \"C:\\Users\\diego\\.conda\\envs\\py34\\lib\\site-packages\\IPython\\core\\interactiveshell.py\", line 3461, in run_code\n",
      "    self.showtraceback(running_compiled_code=True)\n",
      "  File \"C:\\Users\\diego\\.conda\\envs\\py34\\lib\\site-packages\\IPython\\core\\interactiveshell.py\", line 2067, in showtraceback\n",
      "    value, tb, tb_offset=tb_offset)\n",
      "  File \"C:\\Users\\diego\\.conda\\envs\\py34\\lib\\site-packages\\IPython\\core\\ultratb.py\", line 1368, in structured_traceback\n",
      "    self, etype, value, tb, tb_offset, number_of_lines_of_context)\n",
      "  File \"C:\\Users\\diego\\.conda\\envs\\py34\\lib\\site-packages\\IPython\\core\\ultratb.py\", line 1268, in structured_traceback\n",
      "    self, etype, value, tb, tb_offset, number_of_lines_of_context\n",
      "  File \"C:\\Users\\diego\\.conda\\envs\\py34\\lib\\site-packages\\IPython\\core\\ultratb.py\", line 1125, in structured_traceback\n",
      "    tb_offset)\n",
      "  File \"C:\\Users\\diego\\.conda\\envs\\py34\\lib\\site-packages\\IPython\\core\\ultratb.py\", line 1082, in format_exception_as_a_whole\n",
      "    last_unique, recursion_repeat = find_recursion(orig_etype, evalue, records)\n",
      "  File \"C:\\Users\\diego\\.conda\\envs\\py34\\lib\\site-packages\\IPython\\core\\ultratb.py\", line 382, in find_recursion\n",
      "    return len(records), 0\n",
      "TypeError: object of type 'NoneType' has no len()\n",
      "\n",
      "During handling of the above exception, another exception occurred:\n",
      "\n",
      "Traceback (most recent call last):\n",
      "  File \"C:\\Users\\diego\\.conda\\envs\\py34\\lib\\site-packages\\IPython\\core\\interactiveshell.py\", line 2064, in showtraceback\n",
      "    stb = value._render_traceback_()\n",
      "AttributeError: 'TypeError' object has no attribute '_render_traceback_'\n",
      "\n",
      "During handling of the above exception, another exception occurred:\n",
      "\n",
      "Traceback (most recent call last):\n",
      "  File \"C:\\Users\\diego\\.conda\\envs\\py34\\lib\\site-packages\\IPython\\core\\ultratb.py\", line 1101, in get_records\n",
      "    return _fixed_getinnerframes(etb, number_of_lines_of_context, tb_offset)\n",
      "  File \"C:\\Users\\diego\\.conda\\envs\\py34\\lib\\site-packages\\IPython\\core\\ultratb.py\", line 248, in wrapped\n",
      "    return f(*args, **kwargs)\n",
      "  File \"C:\\Users\\diego\\.conda\\envs\\py34\\lib\\site-packages\\IPython\\core\\ultratb.py\", line 281, in _fixed_getinnerframes\n",
      "    records = fix_frame_records_filenames(inspect.getinnerframes(etb, context))\n",
      "  File \"C:\\Users\\diego\\.conda\\envs\\py34\\lib\\inspect.py\", line 1502, in getinnerframes\n",
      "    frameinfo = (tb.tb_frame,) + getframeinfo(tb, context)\n",
      "  File \"C:\\Users\\diego\\.conda\\envs\\py34\\lib\\inspect.py\", line 1460, in getframeinfo\n",
      "    filename = getsourcefile(frame) or getfile(frame)\n",
      "  File \"C:\\Users\\diego\\.conda\\envs\\py34\\lib\\inspect.py\", line 696, in getsourcefile\n",
      "    if getattr(getmodule(object, filename), '__loader__', None) is not None:\n",
      "  File \"C:\\Users\\diego\\.conda\\envs\\py34\\lib\\inspect.py\", line 733, in getmodule\n",
      "    if ismodule(module) and hasattr(module, '__file__'):\n",
      "  File \"C:\\Users\\diego\\.conda\\envs\\py34\\lib\\site-packages\\tensorflow\\__init__.py\", line 50, in __getattr__\n",
      "    module = self._load()\n",
      "  File \"C:\\Users\\diego\\.conda\\envs\\py34\\lib\\site-packages\\tensorflow\\__init__.py\", line 44, in _load\n",
      "    module = _importlib.import_module(self.__name__)\n",
      "  File \"C:\\Users\\diego\\.conda\\envs\\py34\\lib\\importlib\\__init__.py\", line 127, in import_module\n",
      "    return _bootstrap._gcd_import(name[level:], package, level)\n",
      "  File \"<frozen importlib._bootstrap>\", line 1006, in _gcd_import\n",
      "  File \"<frozen importlib._bootstrap>\", line 983, in _find_and_load\n",
      "  File \"<frozen importlib._bootstrap>\", line 965, in _find_and_load_unlocked\n",
      "ModuleNotFoundError: No module named 'tensorflow_core.estimator'\n",
      "Traceback (most recent call last):\n",
      "  File \"C:\\Users\\diego\\.conda\\envs\\py34\\lib\\site-packages\\IPython\\core\\interactiveshell.py\", line 3444, in run_code\n",
      "    exec(code_obj, self.user_global_ns, self.user_ns)\n",
      "  File \"C:\\Users\\diego\\AppData\\Local\\Temp/ipykernel_16016/1887838099.py\", line 1, in <module>\n",
      "    print_confusion_matrix(\"Multilayer perceptron\", valY, yhat_val)\n",
      "  File \"C:\\Users\\diego\\AppData\\Local\\Temp/ipykernel_16016/2703274806.py\", line 3, in print_confusion_matrix\n",
      "    cm = confusion_matrix(valY, yhat_val)\n",
      "  File \"C:\\Users\\diego\\.conda\\envs\\py34\\lib\\site-packages\\sklearn\\metrics\\_classification.py\", line 302, in confusion_matrix\n",
      "    y_type, y_true, y_pred = _check_targets(y_true, y_pred)\n",
      "  File \"C:\\Users\\diego\\.conda\\envs\\py34\\lib\\site-packages\\sklearn\\metrics\\_classification.py\", line 95, in _check_targets\n",
      "    type_true, type_pred\n",
      "ValueError: Classification metrics can't handle a mix of multilabel-indicator and binary targets\n",
      "\n",
      "During handling of the above exception, another exception occurred:\n",
      "\n",
      "Traceback (most recent call last):\n",
      "  File \"C:\\Users\\diego\\.conda\\envs\\py34\\lib\\site-packages\\IPython\\core\\interactiveshell.py\", line 2064, in showtraceback\n",
      "    stb = value._render_traceback_()\n",
      "AttributeError: 'ValueError' object has no attribute '_render_traceback_'\n",
      "\n",
      "During handling of the above exception, another exception occurred:\n",
      "\n",
      "Traceback (most recent call last):\n",
      "  File \"C:\\Users\\diego\\.conda\\envs\\py34\\lib\\site-packages\\IPython\\core\\interactiveshell.py\", line 3364, in run_ast_nodes\n",
      "    if (await self.run_code(code, result,  async_=asy)):\n",
      "  File \"C:\\Users\\diego\\.conda\\envs\\py34\\lib\\site-packages\\IPython\\core\\interactiveshell.py\", line 3461, in run_code\n",
      "    self.showtraceback(running_compiled_code=True)\n",
      "  File \"C:\\Users\\diego\\.conda\\envs\\py34\\lib\\site-packages\\IPython\\core\\interactiveshell.py\", line 2067, in showtraceback\n",
      "    value, tb, tb_offset=tb_offset)\n",
      "  File \"C:\\Users\\diego\\.conda\\envs\\py34\\lib\\site-packages\\IPython\\core\\ultratb.py\", line 1368, in structured_traceback\n",
      "    self, etype, value, tb, tb_offset, number_of_lines_of_context)\n",
      "  File \"C:\\Users\\diego\\.conda\\envs\\py34\\lib\\site-packages\\IPython\\core\\ultratb.py\", line 1268, in structured_traceback\n",
      "    self, etype, value, tb, tb_offset, number_of_lines_of_context\n",
      "  File \"C:\\Users\\diego\\.conda\\envs\\py34\\lib\\site-packages\\IPython\\core\\ultratb.py\", line 1125, in structured_traceback\n",
      "    tb_offset)\n",
      "  File \"C:\\Users\\diego\\.conda\\envs\\py34\\lib\\site-packages\\IPython\\core\\ultratb.py\", line 1082, in format_exception_as_a_whole\n",
      "    last_unique, recursion_repeat = find_recursion(orig_etype, evalue, records)\n",
      "  File \"C:\\Users\\diego\\.conda\\envs\\py34\\lib\\site-packages\\IPython\\core\\ultratb.py\", line 382, in find_recursion\n",
      "    return len(records), 0\n",
      "TypeError: object of type 'NoneType' has no len()\n",
      "\n",
      "During handling of the above exception, another exception occurred:\n",
      "\n",
      "Traceback (most recent call last):\n",
      "  File \"C:\\Users\\diego\\.conda\\envs\\py34\\lib\\site-packages\\IPython\\core\\interactiveshell.py\", line 2064, in showtraceback\n",
      "    stb = value._render_traceback_()\n",
      "AttributeError: 'TypeError' object has no attribute '_render_traceback_'\n",
      "\n",
      "During handling of the above exception, another exception occurred:\n",
      "\n",
      "Traceback (most recent call last):\n",
      "  File \"C:\\Users\\diego\\.conda\\envs\\py34\\lib\\site-packages\\IPython\\core\\interactiveshell.py\", line 2947, in _run_cell\n",
      "    return runner(coro)\n",
      "  File \"C:\\Users\\diego\\.conda\\envs\\py34\\lib\\site-packages\\IPython\\core\\async_helpers.py\", line 68, in _pseudo_sync_runner\n",
      "    coro.send(None)\n",
      "  File \"C:\\Users\\diego\\.conda\\envs\\py34\\lib\\site-packages\\IPython\\core\\interactiveshell.py\", line 3173, in run_cell_async\n",
      "    interactivity=interactivity, compiler=compiler, result=result)\n",
      "  File \"C:\\Users\\diego\\.conda\\envs\\py34\\lib\\site-packages\\IPython\\core\\interactiveshell.py\", line 3383, in run_ast_nodes\n",
      "    self.showtraceback()\n",
      "  File \"C:\\Users\\diego\\.conda\\envs\\py34\\lib\\site-packages\\IPython\\core\\interactiveshell.py\", line 2067, in showtraceback\n",
      "    value, tb, tb_offset=tb_offset)\n",
      "  File \"C:\\Users\\diego\\.conda\\envs\\py34\\lib\\site-packages\\IPython\\core\\ultratb.py\", line 1368, in structured_traceback\n",
      "    self, etype, value, tb, tb_offset, number_of_lines_of_context)\n",
      "  File \"C:\\Users\\diego\\.conda\\envs\\py34\\lib\\site-packages\\IPython\\core\\ultratb.py\", line 1268, in structured_traceback\n",
      "    self, etype, value, tb, tb_offset, number_of_lines_of_context\n",
      "  File \"C:\\Users\\diego\\.conda\\envs\\py34\\lib\\site-packages\\IPython\\core\\ultratb.py\", line 1143, in structured_traceback\n",
      "    chained_exceptions_tb_offset)\n",
      "  File \"C:\\Users\\diego\\.conda\\envs\\py34\\lib\\site-packages\\IPython\\core\\ultratb.py\", line 1082, in format_exception_as_a_whole\n",
      "    last_unique, recursion_repeat = find_recursion(orig_etype, evalue, records)\n",
      "  File \"C:\\Users\\diego\\.conda\\envs\\py34\\lib\\site-packages\\IPython\\core\\ultratb.py\", line 382, in find_recursion\n",
      "    return len(records), 0\n",
      "TypeError: object of type 'NoneType' has no len()\n",
      "\n",
      "During handling of the above exception, another exception occurred:\n",
      "\n",
      "Traceback (most recent call last):\n",
      "  File \"C:\\Users\\diego\\.conda\\envs\\py34\\lib\\site-packages\\IPython\\core\\interactiveshell.py\", line 2064, in showtraceback\n",
      "    stb = value._render_traceback_()\n",
      "AttributeError: 'TypeError' object has no attribute '_render_traceback_'\n",
      "\n",
      "During handling of the above exception, another exception occurred:\n",
      "\n",
      "Traceback (most recent call last):\n",
      "  File \"C:\\Users\\diego\\.conda\\envs\\py34\\lib\\site-packages\\IPython\\core\\ultratb.py\", line 1101, in get_records\n",
      "    return _fixed_getinnerframes(etb, number_of_lines_of_context, tb_offset)\n",
      "  File \"C:\\Users\\diego\\.conda\\envs\\py34\\lib\\site-packages\\IPython\\core\\ultratb.py\", line 248, in wrapped\n",
      "    return f(*args, **kwargs)\n",
      "  File \"C:\\Users\\diego\\.conda\\envs\\py34\\lib\\site-packages\\IPython\\core\\ultratb.py\", line 281, in _fixed_getinnerframes\n",
      "    records = fix_frame_records_filenames(inspect.getinnerframes(etb, context))\n",
      "  File \"C:\\Users\\diego\\.conda\\envs\\py34\\lib\\inspect.py\", line 1502, in getinnerframes\n",
      "    frameinfo = (tb.tb_frame,) + getframeinfo(tb, context)\n",
      "  File \"C:\\Users\\diego\\.conda\\envs\\py34\\lib\\inspect.py\", line 1460, in getframeinfo\n",
      "    filename = getsourcefile(frame) or getfile(frame)\n",
      "  File \"C:\\Users\\diego\\.conda\\envs\\py34\\lib\\inspect.py\", line 696, in getsourcefile\n",
      "    if getattr(getmodule(object, filename), '__loader__', None) is not None:\n",
      "  File \"C:\\Users\\diego\\.conda\\envs\\py34\\lib\\inspect.py\", line 733, in getmodule\n",
      "    if ismodule(module) and hasattr(module, '__file__'):\n",
      "  File \"C:\\Users\\diego\\.conda\\envs\\py34\\lib\\site-packages\\tensorflow\\__init__.py\", line 50, in __getattr__\n",
      "    module = self._load()\n",
      "  File \"C:\\Users\\diego\\.conda\\envs\\py34\\lib\\site-packages\\tensorflow\\__init__.py\", line 44, in _load\n",
      "    module = _importlib.import_module(self.__name__)\n",
      "  File \"C:\\Users\\diego\\.conda\\envs\\py34\\lib\\importlib\\__init__.py\", line 127, in import_module\n",
      "    return _bootstrap._gcd_import(name[level:], package, level)\n",
      "  File \"<frozen importlib._bootstrap>\", line 1006, in _gcd_import\n",
      "  File \"<frozen importlib._bootstrap>\", line 983, in _find_and_load\n",
      "  File \"<frozen importlib._bootstrap>\", line 965, in _find_and_load_unlocked\n",
      "ModuleNotFoundError: No module named 'tensorflow_core.estimator'\n"
     ]
    }
   ],
   "source": [
    "print_confusion_matrix(\"Multilayer perceptron\", valY, yhat_val)"
   ]
  },
  {
   "cell_type": "code",
   "execution_count": 31,
   "id": "89ad923b",
   "metadata": {},
   "outputs": [],
   "source": []
  },
  {
   "cell_type": "code",
   "execution_count": null,
   "id": "44ed6308",
   "metadata": {},
   "outputs": [],
   "source": []
  },
  {
   "cell_type": "code",
   "execution_count": null,
   "id": "b4345cc4",
   "metadata": {},
   "outputs": [],
   "source": []
  }
 ],
 "metadata": {
  "kernelspec": {
   "display_name": "Python 3 (ipykernel)",
   "language": "python",
   "name": "python3"
  },
  "language_info": {
   "codemirror_mode": {
    "name": "ipython",
    "version": 3
   },
   "file_extension": ".py",
   "mimetype": "text/x-python",
   "name": "python",
   "nbconvert_exporter": "python",
   "pygments_lexer": "ipython3",
   "version": "3.7.4"
  }
 },
 "nbformat": 4,
 "nbformat_minor": 5
}
