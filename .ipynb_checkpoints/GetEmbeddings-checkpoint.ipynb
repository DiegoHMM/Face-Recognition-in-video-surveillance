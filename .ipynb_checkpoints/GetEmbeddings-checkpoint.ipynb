{
 "cells": [
  {
   "cell_type": "code",
   "execution_count": 34,
   "id": "44b960e3",
   "metadata": {},
   "outputs": [],
   "source": [
    "from PIL import Image\n",
    "import numpy as np\n",
    "from numpy import asarray, expand_dims\n",
    "from os import listdir\n",
    "from os.path import isdir"
   ]
  },
  {
   "cell_type": "code",
   "execution_count": 62,
   "id": "7571e33e",
   "metadata": {},
   "outputs": [],
   "source": [
    "#function to load face\n",
    "def load_face(filename):\n",
    "    #load file image\n",
    "    image = Image.open(filename)\n",
    "    #convert to RGB\n",
    "    image = image.convert(\"RGB\")\n",
    "    \n",
    "    return asarray(image)"
   ]
  },
  {
   "cell_type": "code",
   "execution_count": 63,
   "id": "507fe908",
   "metadata": {},
   "outputs": [],
   "source": [
    "#function to load faces from each file\n",
    "def load_faces(class_dir):\n",
    "    faces = list()\n",
    "    #iterate in folder\n",
    "    for filename in listdir(class_dir):\n",
    "        path = class_dir + filename\n",
    "        try:\n",
    "            faces.append(load_face(path))\n",
    "        except:\n",
    "            print(\"Erro ao carregar a imagem: \" + path)\n",
    "    return faces"
   ]
  },
  {
   "cell_type": "code",
   "execution_count": 67,
   "id": "fdd0d1e7",
   "metadata": {},
   "outputs": [],
   "source": [
    "#function to load all dataset of each class\n",
    "def load_all_faces(source_dir):\n",
    "    X, y = list(), list()\n",
    "    #iterate by classes\n",
    "    for class_dir in listdir(source_dir):\n",
    "        path = source_dir + class_dir + '/'\n",
    "        \n",
    "        if not isdir(path):\n",
    "            pass\n",
    "        #load faces of the class_dir\n",
    "        faces = load_faces(path)\n",
    "        #fill list with class_dir as the label of the face\n",
    "        labels = [class_dir for _ in range(len(faces))]\n",
    "        \n",
    "        #result\n",
    "        print(\"Carregado %d faces da classe: %s\" %(len(faces), class_dir))\n",
    "        \n",
    "        X.extend(faces)\n",
    "        y.extend(labels)\n",
    "    return asarray(X),asarray(y)"
   ]
  },
  {
   "cell_type": "code",
   "execution_count": 68,
   "id": "6bec4d5d",
   "metadata": {},
   "outputs": [],
   "source": [
    "## Loading all images"
   ]
  },
  {
   "cell_type": "code",
   "execution_count": 69,
   "id": "8ce1a1f2",
   "metadata": {},
   "outputs": [
    {
     "name": "stdout",
     "output_type": "stream",
     "text": [
      "./Dataset/Diego/0.png\n",
      "./Dataset/Diego/1.png\n",
      "./Dataset/Diego/10.png\n",
      "./Dataset/Diego/11.png\n",
      "./Dataset/Diego/12.png\n",
      "./Dataset/Diego/13.png\n",
      "./Dataset/Diego/14.png\n",
      "./Dataset/Diego/15.png\n",
      "./Dataset/Diego/16.png\n",
      "./Dataset/Diego/17.png\n",
      "./Dataset/Diego/18.png\n",
      "./Dataset/Diego/19.png\n",
      "./Dataset/Diego/2.png\n",
      "./Dataset/Diego/20.png\n",
      "./Dataset/Diego/21.png\n",
      "./Dataset/Diego/22.png\n",
      "./Dataset/Diego/23.png\n",
      "./Dataset/Diego/3.png\n",
      "./Dataset/Diego/4.png\n",
      "./Dataset/Diego/5.png\n",
      "./Dataset/Diego/6.png\n",
      "./Dataset/Diego/7.png\n",
      "./Dataset/Diego/8.png\n",
      "./Dataset/Diego/9.png\n",
      "Carregado 24 faces da classe: Diego\n"
     ]
    }
   ],
   "source": [
    "tranX, trainy = load_all_faces('./Dataset/')"
   ]
  },
  {
   "cell_type": "code",
   "execution_count": null,
   "id": "d44850e7",
   "metadata": {},
   "outputs": [],
   "source": []
  },
  {
   "cell_type": "code",
   "execution_count": null,
   "id": "323a6a41",
   "metadata": {},
   "outputs": [],
   "source": []
  }
 ],
 "metadata": {
  "kernelspec": {
   "display_name": "Python 3 (ipykernel)",
   "language": "python",
   "name": "python3"
  },
  "language_info": {
   "codemirror_mode": {
    "name": "ipython",
    "version": 3
   },
   "file_extension": ".py",
   "mimetype": "text/x-python",
   "name": "python",
   "nbconvert_exporter": "python",
   "pygments_lexer": "ipython3",
   "version": "3.7.4"
  }
 },
 "nbformat": 4,
 "nbformat_minor": 5
}
