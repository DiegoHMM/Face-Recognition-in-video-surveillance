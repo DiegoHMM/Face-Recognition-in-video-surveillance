{
 "cells": [
  {
   "cell_type": "code",
   "execution_count": 5,
   "id": "c94715be",
   "metadata": {},
   "outputs": [],
   "source": [
    "import numpy as np\n",
    "import cv2"
   ]
  },
  {
   "cell_type": "code",
   "execution_count": 6,
   "id": "3cf8298e",
   "metadata": {},
   "outputs": [],
   "source": [
    "face_cascade = cv2.CascadeClassifier('cascades/data/haarcascade_frontalface_alt2.xml')"
   ]
  },
  {
   "cell_type": "code",
   "execution_count": 7,
   "id": "446b5c80",
   "metadata": {},
   "outputs": [],
   "source": [
    "cap = cv2.VideoCapture(0)"
   ]
  },
  {
   "cell_type": "code",
   "execution_count": null,
   "id": "09737764",
   "metadata": {},
   "outputs": [
    {
     "name": "stdout",
     "output_type": "stream",
     "text": [
      "9 174 152 152\n",
      "30 173 152 152\n",
      "35 169 152 152\n",
      "53 171 152 152\n",
      "62 168 152 152\n",
      "66 167 152 152\n",
      "68 169 152 152\n",
      "75 168 152 152\n",
      "84 167 152 152\n",
      "91 167 152 152\n",
      "95 167 152 152\n",
      "99 167 152 152\n",
      "107 166 152 152\n",
      "110 167 152 152\n",
      "111 166 152 152\n",
      "8 159 152 152\n",
      "14 160 152 152\n",
      "21 159 152 152\n",
      "24 160 152 152\n",
      "26 161 152 152\n",
      "26 161 152 152\n",
      "25 162 152 152\n",
      "24 162 152 152\n",
      "23 163 152 152\n",
      "23 163 152 152\n",
      "25 164 152 152\n",
      "23 163 152 152\n",
      "23 163 152 152\n",
      "24 166 152 152\n",
      "23 165 152 152\n",
      "23 163 152 152\n",
      "23 163 152 152\n",
      "38 165 152 152\n",
      "46 165 152 152\n",
      "45 165 152 152\n",
      "51 165 152 152\n",
      "51 166 152 152\n",
      "61 165 152 152\n",
      "61 169 152 152\n",
      "68 167 152 152\n",
      "67 168 152 152\n",
      "67 168 152 152\n",
      "75 168 152 152\n",
      "75 168 152 152\n",
      "82 168 152 152\n",
      "82 167 152 152\n",
      "90 172 152 152\n",
      "101 174 152 152\n",
      "105 174 152 152\n",
      "114 178 152 152\n",
      "114 180 152 152\n",
      "118 182 152 152\n",
      "124 182 152 152\n",
      "132 190 152 152\n",
      "139 197 152 152\n",
      "144 197 152 152\n",
      "144 199 152 152\n",
      "151 206 152 152\n",
      "154 206 152 152\n",
      "158 211 152 152\n",
      "156 210 152 152\n",
      "154 212 152 152\n",
      "156 209 152 152\n",
      "153 204 152 152\n",
      "151 199 152 152\n",
      "122 169 228 228\n",
      "148 197 152 152\n",
      "120 167 228 228\n",
      "152 194 152 152\n",
      "149 193 152 152\n",
      "149 189 152 152\n",
      "146 190 152 152\n",
      "145 190 152 152\n",
      "146 184 152 152\n",
      "144 184 152 152\n",
      "143 183 152 152\n",
      "137 182 152 152\n",
      "135 182 152 152\n",
      "122 178 152 152\n",
      "92 168 152 152\n",
      "118 169 152 152\n",
      "129 168 152 152\n",
      "135 168 152 152\n",
      "137 174 152 152\n",
      "139 175 152 152\n",
      "136 176 152 152\n",
      "138 176 152 152\n",
      "138 176 152 152\n",
      "138 178 152 152\n",
      "139 181 152 152\n",
      "139 181 152 152\n",
      "141 181 152 152\n",
      "141 181 152 152\n",
      "140 182 152 152\n",
      "140 182 152 152\n",
      "140 181 152 152\n",
      "140 182 152 152\n",
      "140 182 152 152\n",
      "137 178 152 152\n",
      "129 178 152 152\n",
      "99 177 152 152\n"
     ]
    }
   ],
   "source": [
    "while(True):\n",
    "    #get frame by frame\n",
    "    ret, frame = cap.read()\n",
    "    gray = cv2.cvtColor(frame,cv2.COLOR_BGR2GRAY)\n",
    "    faces = face_cascade.detectMultiScale(gray, scaleFactor=1.5, minNeighbors=5)\n",
    "    for (x, y, w, h) in faces:\n",
    "        print(x,y,w,h)\n",
    "        roi_gray = gray[y:y+h, x:x+w]\n",
    "        img_item = \"roi_my_face.png\"\n",
    "        cv2.imwrite(img_item, roi_gray)\n",
    "    # display the resulting frame\n",
    "    cv2.imshow('frame',frame)\n",
    "    if cv2.waitKey(20) & 0xFF == ord('q'):\n",
    "        break"
   ]
  },
  {
   "cell_type": "code",
   "execution_count": null,
   "id": "56f82402",
   "metadata": {},
   "outputs": [],
   "source": [
    "# When everithing done, release the capture\n",
    "cap.release()\n",
    "cv2.destroyAllWindows()"
   ]
  },
  {
   "cell_type": "code",
   "execution_count": 2,
   "id": "f0c21993",
   "metadata": {},
   "outputs": [
    {
     "name": "stdout",
     "output_type": "stream",
     "text": [
      "C:\\ProgramData\\Anaconda3\\envs\\face-recognition\\lib\\site-packages\\cv2.cp38-win_amd64.pyd\n"
     ]
    }
   ],
   "source": [
    "print(cv2.__file__)"
   ]
  },
  {
   "cell_type": "code",
   "execution_count": null,
   "id": "c5b52495",
   "metadata": {},
   "outputs": [],
   "source": []
  }
 ],
 "metadata": {
  "kernelspec": {
   "display_name": "Python 3 (ipykernel)",
   "language": "python",
   "name": "python3"
  },
  "language_info": {
   "codemirror_mode": {
    "name": "ipython",
    "version": 3
   },
   "file_extension": ".py",
   "mimetype": "text/x-python",
   "name": "python",
   "nbconvert_exporter": "python",
   "pygments_lexer": "ipython3",
   "version": "3.8.12"
  }
 },
 "nbformat": 4,
 "nbformat_minor": 5
}
