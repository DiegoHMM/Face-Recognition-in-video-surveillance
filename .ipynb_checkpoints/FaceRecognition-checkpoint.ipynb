{
 "cells": [
  {
   "cell_type": "code",
   "execution_count": 12,
   "id": "50c22396",
   "metadata": {},
   "outputs": [],
   "source": [
    "import os\n",
    "from os import listdir\n",
    "from PIL import Image as Image\n",
    "from numpy import asarray\n",
    "from numpy import expand_dims\n",
    "from matplotlib import pyplot\n",
    "from keras.models import load_model\n",
    "import numpy as np\n",
    "import tensorflow as tf\n",
    "\n",
    "import pickle\n",
    "import cv2"
   ]
  },
  {
   "cell_type": "code",
   "execution_count": 13,
   "id": "8f195bc6",
   "metadata": {
    "scrolled": true
   },
   "outputs": [],
   "source": [
    "HaarCascade = cv2.CascadeClassifier('cascades/data/haarcascade_frontalface_alt2.xml')\n",
    "facenet = load_model('facenet_keras.h5')\n",
    "model = tf.keras.models.load_model(\"test.h5\")"
   ]
  },
  {
   "cell_type": "code",
   "execution_count": 14,
   "id": "2189399c",
   "metadata": {},
   "outputs": [
    {
     "name": "stdout",
     "output_type": "stream",
     "text": [
      "Model: \"sequential\"\n",
      "_________________________________________________________________\n",
      "Layer (type)                 Output Shape              Param #   \n",
      "=================================================================\n",
      "dense (Dense)                (None, 64)                8256      \n",
      "_________________________________________________________________\n",
      "dropout (Dropout)            (None, 64)                0         \n",
      "_________________________________________________________________\n",
      "dense_1 (Dense)              (None, 2)                 130       \n",
      "=================================================================\n",
      "Total params: 8,386\n",
      "Trainable params: 8,386\n",
      "Non-trainable params: 0\n",
      "_________________________________________________________________\n"
     ]
    }
   ],
   "source": [
    "model.summary()"
   ]
  },
  {
   "cell_type": "code",
   "execution_count": 15,
   "id": "123a8af9",
   "metadata": {},
   "outputs": [],
   "source": [
    "#load labels\n",
    "labels = {}\n",
    "with open(\"labels.picle\", \"rb\") as f:\n",
    "    og_labels = pickle.load(f)\n",
    "    labels = {v:k for k,v in og_labels.items()}"
   ]
  },
  {
   "cell_type": "code",
   "execution_count": 16,
   "id": "3ec6d881",
   "metadata": {},
   "outputs": [],
   "source": [
    "def get_embedding(facenet, face_pixels):\n",
    "    face_pixels = face_pixels.astype('float32')\n",
    "    \n",
    "    mean,std = face_pixels.mean(), face_pixels.std()\n",
    "    face_pixels = (face_pixels-mean) / std\n",
    "    \n",
    "    samples = np.expand_dims(face_pixels, axis=0)\n",
    "    yhat = facenet.predict(samples)\n",
    "    return yhat[0]"
   ]
  },
  {
   "cell_type": "code",
   "execution_count": 17,
   "id": "12d8b905",
   "metadata": {},
   "outputs": [],
   "source": [
    "def valid_predict(predicao):\n",
    "    if predicao[0][0] >= 0.7:\n",
    "        return True\n",
    "    if predicao[0][1] >= 0.7:\n",
    "        return True\n",
    "    return False"
   ]
  },
  {
   "cell_type": "code",
   "execution_count": 18,
   "id": "ca4948bc",
   "metadata": {},
   "outputs": [
    {
     "name": "stdout",
     "output_type": "stream",
     "text": [
      "ERROR! Session/line number was not unique in database. History logging moved to new session 644\n"
     ]
    }
   ],
   "source": [
    "#cap = cv2.VideoCapture(0)\n",
    "cap = cv2.VideoCapture('./Dataset/Teste/teste.mp4')\n",
    "while(True):\n",
    "    #get frame by frame\n",
    "    ret, frame = cap.read()\n",
    "    \n",
    "    faces = HaarCascade.detectMultiScale(frame, scaleFactor=1.5, minNeighbors=5)\n",
    "    for (x, y, w, h) in faces:\n",
    "        roi = frame[y:y+w, x:x+h,:]\n",
    "        roi = Image.fromarray(roi)                       \n",
    "        roi = roi.resize((160,160))\n",
    "        roi = asarray(roi)\n",
    "        roi = roi.astype(\"float32\")/255\n",
    "        emb = get_embedding(facenet, roi)\n",
    "        tensor = np.expand_dims(emb, axis=0)\n",
    "        predicao = model.predict(tensor)\n",
    "        if valid_predict(predicao):\n",
    "            confianca = max(round(predicao[0][0],3),round(predicao[0][1],3))*100\n",
    "            classe = np.argmax(predicao)\n",
    "            #BOX\n",
    "            color = (255,0,0) #BGR\n",
    "            stroke = 2\n",
    "            width = x + w\n",
    "            height = y + h\n",
    "            cv2.rectangle(frame,(x,y), (width, height), color, stroke)\n",
    "            cv2.putText(frame, labels.get(classe) + \" \" + str(int(confianca)) + '%', (x, y+10), \n",
    "                        cv2.FONT_HERSHEY_SIMPLEX, 0.9, color, 2)\n",
    "            cv2.imwrite(labels.get(classe),roi)\n",
    "            \n",
    "\n",
    "    cv2.imshow('frame',frame)\n",
    "    if cv2.waitKey(20) & 0xFF == ord('q'):\n",
    "        break"
   ]
  },
  {
   "cell_type": "code",
   "execution_count": null,
   "id": "0198e5d8",
   "metadata": {},
   "outputs": [],
   "source": []
  },
  {
   "cell_type": "code",
   "execution_count": null,
   "id": "5681a679",
   "metadata": {},
   "outputs": [],
   "source": []
  }
 ],
 "metadata": {
  "kernelspec": {
   "display_name": "Python 3 (ipykernel)",
   "language": "python",
   "name": "python3"
  },
  "language_info": {
   "codemirror_mode": {
    "name": "ipython",
    "version": 3
   },
   "file_extension": ".py",
   "mimetype": "text/x-python",
   "name": "python",
   "nbconvert_exporter": "python",
   "pygments_lexer": "ipython3",
   "version": "3.7.4"
  }
 },
 "nbformat": 4,
 "nbformat_minor": 5
}
