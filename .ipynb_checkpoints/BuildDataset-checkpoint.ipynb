{
 "cells": [
  {
   "cell_type": "code",
   "execution_count": 10,
   "id": "6c7e3378",
   "metadata": {},
   "outputs": [],
   "source": [
    "import os\n",
    "from os import listdir\n",
    "from PIL import Image\n",
    "from numpy import asarray\n",
    "from numpy import expand_dims\n",
    "from matplotlib import pyplot\n",
    "from keras.models import load_model\n",
    "import numpy as np\n",
    "import time\n",
    "\n",
    "import pickle\n",
    "import cv2\n"
   ]
  },
  {
   "cell_type": "code",
   "execution_count": 11,
   "id": "2136a568",
   "metadata": {},
   "outputs": [],
   "source": [
    "face_cascade = cv2.CascadeClassifier('cascades/data/haarcascade_frontalface_alt2.xml')"
   ]
  },
  {
   "cell_type": "code",
   "execution_count": 12,
   "id": "72f6dd03",
   "metadata": {},
   "outputs": [],
   "source": [
    "cap = cv2.VideoCapture(0)"
   ]
  },
  {
   "cell_type": "code",
   "execution_count": null,
   "id": "7d25bc94",
   "metadata": {},
   "outputs": [],
   "source": [
    "folder = './Dataset/Treino/Dessa'\n",
    "i = 29\n",
    "while(True):\n",
    "    #get frame by frame\n",
    "    ret, frame = cap.read()\n",
    "    \n",
    "    faces = face_cascade.detectMultiScale(frame, scaleFactor=1.5, minNeighbors=5)\n",
    "    for (x, y, w, h) in faces:\n",
    "        roi = frame[y:y+w, x:x+h,:]\n",
    "        roi = Image.fromarray(roi)                       \n",
    "        roi = roi.resize((160,160))\n",
    "        roi = asarray(roi)\n",
    "        cv2.imwrite(folder + str(i) + \".png\",roi)\n",
    "        time.sleep(2) # Sleep for 2 seconds\n",
    "        i += 1\n",
    "        roi = np.expand_dims(roi, 0)\n",
    "\n",
    "    cv2.imshow('frame',frame)\n",
    "    if cv2.waitKey(20) & 0xFF == ord('q'):\n",
    "        break"
   ]
  },
  {
   "cell_type": "code",
   "execution_count": null,
   "id": "580cfbba",
   "metadata": {},
   "outputs": [],
   "source": []
  }
 ],
 "metadata": {
  "kernelspec": {
   "display_name": "Python 3 (ipykernel)",
   "language": "python",
   "name": "python3"
  },
  "language_info": {
   "codemirror_mode": {
    "name": "ipython",
    "version": 3
   },
   "file_extension": ".py",
   "mimetype": "text/x-python",
   "name": "python",
   "nbconvert_exporter": "python",
   "pygments_lexer": "ipython3",
   "version": "3.7.4"
  }
 },
 "nbformat": 4,
 "nbformat_minor": 5
}
