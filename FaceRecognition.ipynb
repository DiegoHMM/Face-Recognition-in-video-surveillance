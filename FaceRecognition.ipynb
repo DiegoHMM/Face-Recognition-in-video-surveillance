{
 "cells": [
  {
   "cell_type": "code",
   "execution_count": null,
   "id": "50c22396",
   "metadata": {},
   "outputs": [],
   "source": [
    "import os\n",
    "from os import listdir\n",
    "from PIL import Image as Image\n",
    "from numpy import asarray\n",
    "from numpy import expand_dims\n",
    "from matplotlib import pyplot\n",
    "from keras.models import load_model\n",
    "import numpy as np\n",
    "import tensorflow as tf\n",
    "\n",
    "import pickle\n",
    "import cv2"
   ]
  },
  {
   "cell_type": "code",
   "execution_count": null,
   "id": "8f195bc6",
   "metadata": {
    "scrolled": true
   },
   "outputs": [],
   "source": [
    "HaarCascade = cv2.CascadeClassifier('cascades/data/haarcascade_frontalface_alt2.xml')\n",
    "facenet = load_model('facenet_keras.h5')\n",
    "model = tf.keras.models.load_model(\"test.h5\")\n",
    "\n",
    "# load the model from disk\n",
    "with open('knn_file','rb') as f:\n",
    "    knn = pickle.load(f)\n",
    "with open('svm_file','rb') as f:\n",
    "    svm = pickle.load(f)"
   ]
  },
  {
   "cell_type": "code",
   "execution_count": null,
   "id": "2189399c",
   "metadata": {},
   "outputs": [],
   "source": [
    "model.summary()"
   ]
  },
  {
   "cell_type": "code",
   "execution_count": null,
   "id": "123a8af9",
   "metadata": {},
   "outputs": [],
   "source": [
    "#load labels\n",
    "labels = {}\n",
    "with open(\"labels.picle\", \"rb\") as f:\n",
    "    og_labels = pickle.load(f)\n",
    "    labels = {v:k for k,v in og_labels.items()}"
   ]
  },
  {
   "cell_type": "code",
   "execution_count": null,
   "id": "3ec6d881",
   "metadata": {},
   "outputs": [],
   "source": [
    "def get_embedding(facenet, face_pixels):\n",
    "    face_pixels = face_pixels.astype('float32')\n",
    "    \n",
    "    mean,std = face_pixels.mean(), face_pixels.std()\n",
    "    face_pixels = (face_pixels-mean) / std\n",
    "    \n",
    "    samples = np.expand_dims(face_pixels, axis=0)\n",
    "    yhat = facenet.predict(samples)\n",
    "    return yhat[0]"
   ]
  },
  {
   "cell_type": "code",
   "execution_count": null,
   "id": "12d8b905",
   "metadata": {},
   "outputs": [],
   "source": [
    "def valid_predict(predicao):\n",
    "    if predicao[0][0] >= 0:\n",
    "        return True\n",
    "    if predicao[0][1] >= 0:\n",
    "        return True\n",
    "    return False"
   ]
  },
  {
   "cell_type": "markdown",
   "id": "fb13ac79",
   "metadata": {},
   "source": [
    "# KNN"
   ]
  },
  {
   "cell_type": "code",
   "execution_count": null,
   "id": "ad72e554",
   "metadata": {},
   "outputs": [],
   "source": [
    "#cap = cv2.VideoCapture(0)\n",
    "cap = cv2.VideoCapture('./Dataset/Teste/Gui/Gui.mp4')\n",
    "frame_number = 0\n",
    "try:\n",
    "    while(True):\n",
    "        #get frame by frame\n",
    "        ret, frame = cap.read()\n",
    "\n",
    "        faces = HaarCascade.detectMultiScale(frame, scaleFactor=1.5, minNeighbors=5)\n",
    "        for (x, y, w, h) in faces:\n",
    "            roi = frame[y:y+w, x:x+h,:]\n",
    "            roi = Image.fromarray(roi)                       \n",
    "            roi = roi.resize((160,160))\n",
    "            roi = asarray(roi)\n",
    "            roi_norm = roi.astype(\"float32\")/255\n",
    "            emb = get_embedding(facenet, roi_norm)\n",
    "            tensor = np.expand_dims(emb, axis=0)\n",
    "            predicao = knn.predict(tensor)\n",
    "            #confianca = max(round(predicao[0][0],3),round(predicao[0][1],3))*100\n",
    "            classe = np.argmax(predicao)\n",
    "            #BOX\n",
    "            color = (255,0,0) #BGR\n",
    "            stroke = 2\n",
    "            width = x + w\n",
    "            height = y + h\n",
    "            cv2.rectangle(frame,(x,y), (width, height), color, stroke)\n",
    "            cv2.putText(frame, labels.get(classe), (x, y+10), \n",
    "                        cv2.FONT_HERSHEY_SIMPLEX, 0.9, color, 2)\n",
    "            cv2.imwrite('./Dataset/Recognition/' + labels.get(classe)+str(frame_number) + '.jpg',roi)\n",
    "            frame_number += 1\n",
    "\n",
    "\n",
    "        #cv2.imshow('.frame',frame)\n",
    "        if cv2.waitKey(20) & 0xFF == ord('q'):\n",
    "            break\n",
    "except:\n",
    "    pass"
   ]
  },
  {
   "cell_type": "markdown",
   "id": "6b5704b7",
   "metadata": {},
   "source": [
    "# SVM"
   ]
  },
  {
   "cell_type": "code",
   "execution_count": null,
   "id": "a3db1757",
   "metadata": {},
   "outputs": [],
   "source": [
    "#cap = cv2.VideoCapture(0)\n",
    "cap = cv2.VideoCapture('./Dataset/Teste/Gui/Gui.mp4')\n",
    "frame_number = 0\n",
    "try:\n",
    "    while(True):\n",
    "        #get frame by frame\n",
    "        ret, frame = cap.read()\n",
    "\n",
    "        faces = HaarCascade.detectMultiScale(frame, scaleFactor=1.5, minNeighbors=5)\n",
    "        for (x, y, w, h) in faces:\n",
    "            roi = frame[y:y+w, x:x+h,:]\n",
    "            roi = Image.fromarray(roi)                       \n",
    "            roi = roi.resize((160,160))\n",
    "            roi = asarray(roi)\n",
    "            roi_norm = roi.astype(\"float32\")/255\n",
    "            emb = get_embedding(facenet, roi_norm)\n",
    "            tensor = np.expand_dims(emb, axis=0)\n",
    "            #predicao = model.predict(tensor)\n",
    "            predicao = svm.predict(tensor)\n",
    "            #confianca = max(round(predicao[0][0],3),round(predicao[0][1],3))*100\n",
    "            classe = np.argmax(predicao)\n",
    "            #BOX\n",
    "            color = (255,0,0) #BGR\n",
    "            stroke = 2\n",
    "            width = x + w\n",
    "            height = y + h\n",
    "            cv2.rectangle(frame,(x,y), (width, height), color, stroke)\n",
    "            cv2.putText(frame, labels.get(classe), (x, y+10), \n",
    "                        cv2.FONT_HERSHEY_SIMPLEX, 0.9, color, 2)\n",
    "            cv2.imwrite('./Dataset/Recognition/' + labels.get(classe)+str(frame_number) + '.jpg',roi)\n",
    "            frame_number += 1\n",
    "\n",
    "\n",
    "        cv2.imshow('.frame',frame)\n",
    "        if cv2.waitKey(20) & 0xFF == ord('q'):\n",
    "            break\n",
    "except:\n",
    "    pass"
   ]
  },
  {
   "cell_type": "markdown",
   "id": "00b7a444",
   "metadata": {},
   "source": [
    "# MLP"
   ]
  },
  {
   "cell_type": "code",
   "execution_count": null,
   "id": "ca4948bc",
   "metadata": {},
   "outputs": [],
   "source": [
    "#cap = cv2.VideoCapture(0)\n",
    "cap = cv2.VideoCapture('./Dataset/Teste/Gui/Gui.mp4')\n",
    "frame_number = 0\n",
    "try:\n",
    "    while(True):\n",
    "        #get frame by frame\n",
    "        ret, frame = cap.read()\n",
    "\n",
    "        faces = HaarCascade.detectMultiScale(frame, scaleFactor=1.5, minNeighbors=5)\n",
    "        for (x, y, w, h) in faces:\n",
    "            roi = frame[y:y+w, x:x+h,:]\n",
    "            roi = Image.fromarray(roi)                       \n",
    "            roi = roi.resize((160,160))\n",
    "            roi = asarray(roi)\n",
    "            roi_norm = roi.astype(\"float32\")/255\n",
    "            emb = get_embedding(facenet, roi_norm)\n",
    "            tensor = np.expand_dims(emb, axis=0)\n",
    "            predicao = model.predict(tensor)\n",
    "            if valid_predict(predicao):\n",
    "                confianca = max(round(predicao[0][0],3),round(predicao[0][1],3))*100\n",
    "                classe = np.argmax(predicao)\n",
    "                #BOX\n",
    "                color = (255,0,0) #BGR\n",
    "                stroke = 2\n",
    "                width = x + w\n",
    "                height = y + h\n",
    "                cv2.rectangle(frame,(x,y), (width, height), color, stroke)\n",
    "                cv2.putText(frame, labels.get(classe) + \" \" + str(int(confianca)) + '%', (x, y+10), \n",
    "                            cv2.FONT_HERSHEY_SIMPLEX, 0.9, color, 2)\n",
    "                cv2.imwrite('./Dataset/Recognition/' + labels.get(classe)+str(int(confianca)) + '%'+str(frame_number) + '.jpg',roi)\n",
    "                frame_number += 1\n",
    "\n",
    "\n",
    "        cv2.imshow('.frame',frame)\n",
    "        if cv2.waitKey(20) & 0xFF == ord('q'):\n",
    "            break\n",
    "except:\n",
    "    pass"
   ]
  },
  {
   "cell_type": "code",
   "execution_count": null,
   "id": "dfc30f94",
   "metadata": {},
   "outputs": [],
   "source": []
  },
  {
   "cell_type": "code",
   "execution_count": null,
   "id": "a4ab949f",
   "metadata": {},
   "outputs": [],
   "source": []
  },
  {
   "cell_type": "code",
   "execution_count": null,
   "id": "c63ef3c3",
   "metadata": {},
   "outputs": [],
   "source": []
  },
  {
   "cell_type": "code",
   "execution_count": null,
   "id": "1a1caf55",
   "metadata": {},
   "outputs": [],
   "source": []
  }
 ],
 "metadata": {
  "kernelspec": {
   "display_name": "Python 3 (ipykernel)",
   "language": "python",
   "name": "python3"
  },
  "language_info": {
   "codemirror_mode": {
    "name": "ipython",
    "version": 3
   },
   "file_extension": ".py",
   "mimetype": "text/x-python",
   "name": "python",
   "nbconvert_exporter": "python",
   "pygments_lexer": "ipython3",
   "version": "3.7.4"
  }
 },
 "nbformat": 4,
 "nbformat_minor": 5
}
