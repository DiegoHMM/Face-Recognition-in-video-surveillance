{
 "cells": [
  {
   "cell_type": "code",
   "execution_count": 30,
   "id": "99e3c33b",
   "metadata": {},
   "outputs": [
    {
     "name": "stdout",
     "output_type": "stream",
     "text": [
      "ERROR! Session/line number was not unique in database. History logging moved to new session 661\n"
     ]
    }
   ],
   "source": [
    "from PIL import Image\n",
    "import numpy as np\n",
    "from numpy import asarray, expand_dims\n",
    "from os import listdir\n",
    "from os.path import isdir\n",
    "import pandas as pd\n",
    "import matplotlib.pyplot as plt"
   ]
  },
  {
   "cell_type": "code",
   "execution_count": 31,
   "id": "762d27f7",
   "metadata": {},
   "outputs": [],
   "source": [
    "df = pd.read_csv('faces_train_embeddings.csv',index_col=0)"
   ]
  },
  {
   "cell_type": "code",
   "execution_count": 32,
   "id": "dc2d0c6b",
   "metadata": {},
   "outputs": [
    {
     "data": {
      "text/html": [
       "<div>\n",
       "<style scoped>\n",
       "    .dataframe tbody tr th:only-of-type {\n",
       "        vertical-align: middle;\n",
       "    }\n",
       "\n",
       "    .dataframe tbody tr th {\n",
       "        vertical-align: top;\n",
       "    }\n",
       "\n",
       "    .dataframe thead th {\n",
       "        text-align: right;\n",
       "    }\n",
       "</style>\n",
       "<table border=\"1\" class=\"dataframe\">\n",
       "  <thead>\n",
       "    <tr style=\"text-align: right;\">\n",
       "      <th></th>\n",
       "      <th>0</th>\n",
       "      <th>1</th>\n",
       "      <th>2</th>\n",
       "      <th>3</th>\n",
       "      <th>4</th>\n",
       "      <th>5</th>\n",
       "      <th>6</th>\n",
       "      <th>7</th>\n",
       "      <th>8</th>\n",
       "      <th>9</th>\n",
       "      <th>...</th>\n",
       "      <th>119</th>\n",
       "      <th>120</th>\n",
       "      <th>121</th>\n",
       "      <th>122</th>\n",
       "      <th>123</th>\n",
       "      <th>124</th>\n",
       "      <th>125</th>\n",
       "      <th>126</th>\n",
       "      <th>127</th>\n",
       "      <th>target</th>\n",
       "    </tr>\n",
       "  </thead>\n",
       "  <tbody>\n",
       "    <tr>\n",
       "      <th>0</th>\n",
       "      <td>-1.646290</td>\n",
       "      <td>-1.687331</td>\n",
       "      <td>2.883557</td>\n",
       "      <td>-1.046404</td>\n",
       "      <td>0.356762</td>\n",
       "      <td>-0.031084</td>\n",
       "      <td>0.818687</td>\n",
       "      <td>1.042676</td>\n",
       "      <td>0.990864</td>\n",
       "      <td>-1.797787</td>\n",
       "      <td>...</td>\n",
       "      <td>-0.620700</td>\n",
       "      <td>0.441091</td>\n",
       "      <td>-0.397414</td>\n",
       "      <td>0.684068</td>\n",
       "      <td>-0.644207</td>\n",
       "      <td>-0.123236</td>\n",
       "      <td>0.243865</td>\n",
       "      <td>-0.861191</td>\n",
       "      <td>-0.262962</td>\n",
       "      <td>Dessa</td>\n",
       "    </tr>\n",
       "    <tr>\n",
       "      <th>1</th>\n",
       "      <td>-1.194539</td>\n",
       "      <td>-0.351180</td>\n",
       "      <td>0.847829</td>\n",
       "      <td>-1.458991</td>\n",
       "      <td>-0.670082</td>\n",
       "      <td>0.320437</td>\n",
       "      <td>1.117681</td>\n",
       "      <td>1.531365</td>\n",
       "      <td>-0.245236</td>\n",
       "      <td>-1.541856</td>\n",
       "      <td>...</td>\n",
       "      <td>-0.458893</td>\n",
       "      <td>2.197925</td>\n",
       "      <td>-0.467323</td>\n",
       "      <td>0.565679</td>\n",
       "      <td>-0.843947</td>\n",
       "      <td>-0.442665</td>\n",
       "      <td>-1.723495</td>\n",
       "      <td>-0.829319</td>\n",
       "      <td>-0.915569</td>\n",
       "      <td>Dessa</td>\n",
       "    </tr>\n",
       "    <tr>\n",
       "      <th>2</th>\n",
       "      <td>-1.459124</td>\n",
       "      <td>0.350540</td>\n",
       "      <td>1.922038</td>\n",
       "      <td>-1.547778</td>\n",
       "      <td>-0.076800</td>\n",
       "      <td>1.135906</td>\n",
       "      <td>2.339353</td>\n",
       "      <td>1.170720</td>\n",
       "      <td>1.278217</td>\n",
       "      <td>-1.286478</td>\n",
       "      <td>...</td>\n",
       "      <td>-0.758161</td>\n",
       "      <td>1.246184</td>\n",
       "      <td>0.017751</td>\n",
       "      <td>0.110696</td>\n",
       "      <td>0.255546</td>\n",
       "      <td>-0.881180</td>\n",
       "      <td>-0.652305</td>\n",
       "      <td>-1.156251</td>\n",
       "      <td>-1.029011</td>\n",
       "      <td>Dessa</td>\n",
       "    </tr>\n",
       "    <tr>\n",
       "      <th>3</th>\n",
       "      <td>-1.397213</td>\n",
       "      <td>-2.582741</td>\n",
       "      <td>1.606574</td>\n",
       "      <td>-0.014072</td>\n",
       "      <td>0.152207</td>\n",
       "      <td>0.110997</td>\n",
       "      <td>1.238310</td>\n",
       "      <td>1.298510</td>\n",
       "      <td>-0.061058</td>\n",
       "      <td>-0.169997</td>\n",
       "      <td>...</td>\n",
       "      <td>-0.850449</td>\n",
       "      <td>2.886897</td>\n",
       "      <td>-0.118972</td>\n",
       "      <td>0.003521</td>\n",
       "      <td>-1.562422</td>\n",
       "      <td>-0.469554</td>\n",
       "      <td>-0.094245</td>\n",
       "      <td>0.848792</td>\n",
       "      <td>-1.233757</td>\n",
       "      <td>Dessa</td>\n",
       "    </tr>\n",
       "    <tr>\n",
       "      <th>4</th>\n",
       "      <td>-0.556707</td>\n",
       "      <td>-1.063721</td>\n",
       "      <td>1.920441</td>\n",
       "      <td>-1.446446</td>\n",
       "      <td>-0.390729</td>\n",
       "      <td>0.597911</td>\n",
       "      <td>0.234126</td>\n",
       "      <td>1.192957</td>\n",
       "      <td>1.042021</td>\n",
       "      <td>-1.012844</td>\n",
       "      <td>...</td>\n",
       "      <td>0.516457</td>\n",
       "      <td>0.996243</td>\n",
       "      <td>-0.568146</td>\n",
       "      <td>1.012027</td>\n",
       "      <td>-0.807611</td>\n",
       "      <td>-0.534911</td>\n",
       "      <td>-1.295959</td>\n",
       "      <td>0.443297</td>\n",
       "      <td>0.799314</td>\n",
       "      <td>Dessa</td>\n",
       "    </tr>\n",
       "  </tbody>\n",
       "</table>\n",
       "<p>5 rows × 129 columns</p>\n",
       "</div>"
      ],
      "text/plain": [
       "          0         1         2         3         4         5         6  \\\n",
       "0 -1.646290 -1.687331  2.883557 -1.046404  0.356762 -0.031084  0.818687   \n",
       "1 -1.194539 -0.351180  0.847829 -1.458991 -0.670082  0.320437  1.117681   \n",
       "2 -1.459124  0.350540  1.922038 -1.547778 -0.076800  1.135906  2.339353   \n",
       "3 -1.397213 -2.582741  1.606574 -0.014072  0.152207  0.110997  1.238310   \n",
       "4 -0.556707 -1.063721  1.920441 -1.446446 -0.390729  0.597911  0.234126   \n",
       "\n",
       "          7         8         9  ...       119       120       121       122  \\\n",
       "0  1.042676  0.990864 -1.797787  ... -0.620700  0.441091 -0.397414  0.684068   \n",
       "1  1.531365 -0.245236 -1.541856  ... -0.458893  2.197925 -0.467323  0.565679   \n",
       "2  1.170720  1.278217 -1.286478  ... -0.758161  1.246184  0.017751  0.110696   \n",
       "3  1.298510 -0.061058 -0.169997  ... -0.850449  2.886897 -0.118972  0.003521   \n",
       "4  1.192957  1.042021 -1.012844  ...  0.516457  0.996243 -0.568146  1.012027   \n",
       "\n",
       "        123       124       125       126       127  target  \n",
       "0 -0.644207 -0.123236  0.243865 -0.861191 -0.262962   Dessa  \n",
       "1 -0.843947 -0.442665 -1.723495 -0.829319 -0.915569   Dessa  \n",
       "2  0.255546 -0.881180 -0.652305 -1.156251 -1.029011   Dessa  \n",
       "3 -1.562422 -0.469554 -0.094245  0.848792 -1.233757   Dessa  \n",
       "4 -0.807611 -0.534911 -1.295959  0.443297  0.799314   Dessa  \n",
       "\n",
       "[5 rows x 129 columns]"
      ]
     },
     "execution_count": 32,
     "metadata": {},
     "output_type": "execute_result"
    }
   ],
   "source": [
    "df.head(5)"
   ]
  },
  {
   "cell_type": "code",
   "execution_count": 33,
   "id": "b945f366",
   "metadata": {},
   "outputs": [],
   "source": [
    "# X = df - coluna target\n",
    "X = np.array(df.drop('target', axis=1))\n",
    "# y = coluna target\n",
    "y = np.array(df.target)"
   ]
  },
  {
   "cell_type": "code",
   "execution_count": 34,
   "id": "f85b3e23",
   "metadata": {},
   "outputs": [],
   "source": [
    "#Shuffle dataset\n",
    "from sklearn.utils import shuffle\n",
    "trainX, trainY = shuffle (X,y, random_state=0)"
   ]
  },
  {
   "cell_type": "code",
   "execution_count": 35,
   "id": "5f25bf8b",
   "metadata": {},
   "outputs": [],
   "source": [
    "#hot-encode labels\n",
    "from sklearn.preprocessing import LabelEncoder\n",
    "\n",
    "out_encoder = LabelEncoder()\n",
    "out_encoder.fit(trainY)\n",
    "trainY = out_encoder.transform(trainY)"
   ]
  },
  {
   "cell_type": "code",
   "execution_count": 36,
   "id": "21de7333",
   "metadata": {},
   "outputs": [
    {
     "data": {
      "text/html": [
       "<div>\n",
       "<style scoped>\n",
       "    .dataframe tbody tr th:only-of-type {\n",
       "        vertical-align: middle;\n",
       "    }\n",
       "\n",
       "    .dataframe tbody tr th {\n",
       "        vertical-align: top;\n",
       "    }\n",
       "\n",
       "    .dataframe thead th {\n",
       "        text-align: right;\n",
       "    }\n",
       "</style>\n",
       "<table border=\"1\" class=\"dataframe\">\n",
       "  <thead>\n",
       "    <tr style=\"text-align: right;\">\n",
       "      <th></th>\n",
       "      <th>0</th>\n",
       "      <th>1</th>\n",
       "      <th>2</th>\n",
       "      <th>3</th>\n",
       "      <th>4</th>\n",
       "      <th>5</th>\n",
       "      <th>6</th>\n",
       "      <th>7</th>\n",
       "      <th>8</th>\n",
       "      <th>9</th>\n",
       "      <th>...</th>\n",
       "      <th>119</th>\n",
       "      <th>120</th>\n",
       "      <th>121</th>\n",
       "      <th>122</th>\n",
       "      <th>123</th>\n",
       "      <th>124</th>\n",
       "      <th>125</th>\n",
       "      <th>126</th>\n",
       "      <th>127</th>\n",
       "      <th>target</th>\n",
       "    </tr>\n",
       "  </thead>\n",
       "  <tbody>\n",
       "    <tr>\n",
       "      <th>0</th>\n",
       "      <td>-1.245843</td>\n",
       "      <td>-3.227210</td>\n",
       "      <td>2.465695</td>\n",
       "      <td>-0.917892</td>\n",
       "      <td>-0.273218</td>\n",
       "      <td>0.014268</td>\n",
       "      <td>0.960072</td>\n",
       "      <td>2.046350</td>\n",
       "      <td>0.770749</td>\n",
       "      <td>-1.729095</td>\n",
       "      <td>...</td>\n",
       "      <td>-0.944039</td>\n",
       "      <td>1.675355</td>\n",
       "      <td>-0.282118</td>\n",
       "      <td>0.183822</td>\n",
       "      <td>-0.653568</td>\n",
       "      <td>0.195866</td>\n",
       "      <td>-0.342965</td>\n",
       "      <td>0.134062</td>\n",
       "      <td>0.085601</td>\n",
       "      <td>Dessa</td>\n",
       "    </tr>\n",
       "    <tr>\n",
       "      <th>1</th>\n",
       "      <td>-1.820353</td>\n",
       "      <td>-1.927010</td>\n",
       "      <td>2.204384</td>\n",
       "      <td>-1.009596</td>\n",
       "      <td>0.881777</td>\n",
       "      <td>-0.266035</td>\n",
       "      <td>1.083478</td>\n",
       "      <td>0.185461</td>\n",
       "      <td>0.970948</td>\n",
       "      <td>-0.101829</td>\n",
       "      <td>...</td>\n",
       "      <td>-0.239811</td>\n",
       "      <td>1.173024</td>\n",
       "      <td>-0.469987</td>\n",
       "      <td>0.834028</td>\n",
       "      <td>0.029961</td>\n",
       "      <td>-1.558266</td>\n",
       "      <td>0.222502</td>\n",
       "      <td>-1.249710</td>\n",
       "      <td>-0.936888</td>\n",
       "      <td>Dessa</td>\n",
       "    </tr>\n",
       "    <tr>\n",
       "      <th>2</th>\n",
       "      <td>-1.396999</td>\n",
       "      <td>-1.730301</td>\n",
       "      <td>0.985809</td>\n",
       "      <td>-0.609296</td>\n",
       "      <td>0.259128</td>\n",
       "      <td>-0.350798</td>\n",
       "      <td>1.171645</td>\n",
       "      <td>1.098546</td>\n",
       "      <td>0.260584</td>\n",
       "      <td>0.165752</td>\n",
       "      <td>...</td>\n",
       "      <td>-2.360200</td>\n",
       "      <td>1.195297</td>\n",
       "      <td>0.235626</td>\n",
       "      <td>-0.853008</td>\n",
       "      <td>-1.222476</td>\n",
       "      <td>-1.174283</td>\n",
       "      <td>0.642346</td>\n",
       "      <td>-0.408757</td>\n",
       "      <td>-1.177594</td>\n",
       "      <td>Dessa</td>\n",
       "    </tr>\n",
       "    <tr>\n",
       "      <th>3</th>\n",
       "      <td>-1.636572</td>\n",
       "      <td>-0.296489</td>\n",
       "      <td>1.418785</td>\n",
       "      <td>-1.641847</td>\n",
       "      <td>0.345870</td>\n",
       "      <td>0.003038</td>\n",
       "      <td>1.054012</td>\n",
       "      <td>1.722565</td>\n",
       "      <td>0.826067</td>\n",
       "      <td>-1.871242</td>\n",
       "      <td>...</td>\n",
       "      <td>-0.836204</td>\n",
       "      <td>1.313731</td>\n",
       "      <td>0.584170</td>\n",
       "      <td>0.849724</td>\n",
       "      <td>-0.827995</td>\n",
       "      <td>-1.066870</td>\n",
       "      <td>-0.335423</td>\n",
       "      <td>-0.783864</td>\n",
       "      <td>-0.067064</td>\n",
       "      <td>Dessa</td>\n",
       "    </tr>\n",
       "    <tr>\n",
       "      <th>4</th>\n",
       "      <td>-0.927681</td>\n",
       "      <td>-0.953416</td>\n",
       "      <td>3.014898</td>\n",
       "      <td>-2.241177</td>\n",
       "      <td>-0.365648</td>\n",
       "      <td>0.755285</td>\n",
       "      <td>0.518138</td>\n",
       "      <td>1.552790</td>\n",
       "      <td>0.988955</td>\n",
       "      <td>-1.952708</td>\n",
       "      <td>...</td>\n",
       "      <td>-1.770725</td>\n",
       "      <td>1.579803</td>\n",
       "      <td>-0.078469</td>\n",
       "      <td>0.435631</td>\n",
       "      <td>-0.343946</td>\n",
       "      <td>-0.115035</td>\n",
       "      <td>-0.751708</td>\n",
       "      <td>-1.119460</td>\n",
       "      <td>-0.966538</td>\n",
       "      <td>Dessa</td>\n",
       "    </tr>\n",
       "  </tbody>\n",
       "</table>\n",
       "<p>5 rows × 129 columns</p>\n",
       "</div>"
      ],
      "text/plain": [
       "          0         1         2         3         4         5         6  \\\n",
       "0 -1.245843 -3.227210  2.465695 -0.917892 -0.273218  0.014268  0.960072   \n",
       "1 -1.820353 -1.927010  2.204384 -1.009596  0.881777 -0.266035  1.083478   \n",
       "2 -1.396999 -1.730301  0.985809 -0.609296  0.259128 -0.350798  1.171645   \n",
       "3 -1.636572 -0.296489  1.418785 -1.641847  0.345870  0.003038  1.054012   \n",
       "4 -0.927681 -0.953416  3.014898 -2.241177 -0.365648  0.755285  0.518138   \n",
       "\n",
       "          7         8         9  ...       119       120       121       122  \\\n",
       "0  2.046350  0.770749 -1.729095  ... -0.944039  1.675355 -0.282118  0.183822   \n",
       "1  0.185461  0.970948 -0.101829  ... -0.239811  1.173024 -0.469987  0.834028   \n",
       "2  1.098546  0.260584  0.165752  ... -2.360200  1.195297  0.235626 -0.853008   \n",
       "3  1.722565  0.826067 -1.871242  ... -0.836204  1.313731  0.584170  0.849724   \n",
       "4  1.552790  0.988955 -1.952708  ... -1.770725  1.579803 -0.078469  0.435631   \n",
       "\n",
       "        123       124       125       126       127  target  \n",
       "0 -0.653568  0.195866 -0.342965  0.134062  0.085601   Dessa  \n",
       "1  0.029961 -1.558266  0.222502 -1.249710 -0.936888   Dessa  \n",
       "2 -1.222476 -1.174283  0.642346 -0.408757 -1.177594   Dessa  \n",
       "3 -0.827995 -1.066870 -0.335423 -0.783864 -0.067064   Dessa  \n",
       "4 -0.343946 -0.115035 -0.751708 -1.119460 -0.966538   Dessa  \n",
       "\n",
       "[5 rows x 129 columns]"
      ]
     },
     "execution_count": 36,
     "metadata": {},
     "output_type": "execute_result"
    }
   ],
   "source": [
    "#validation\n",
    "df_val = pd.read_csv('faces_validation_embeddings.csv',index_col=0)\n",
    "df_val.head(5)"
   ]
  },
  {
   "cell_type": "code",
   "execution_count": 37,
   "id": "0110a166",
   "metadata": {},
   "outputs": [],
   "source": [
    "#split X and Y validation\n",
    "valX = np.array(df_val.drop('target',axis=1))\n",
    "valY = np.array(df_val.target)"
   ]
  },
  {
   "cell_type": "code",
   "execution_count": 38,
   "id": "f5246be0",
   "metadata": {},
   "outputs": [],
   "source": [
    "#hot encoder validation Y\n",
    "out_encoder.fit(valY)\n",
    "valY = out_encoder.transform(valY)"
   ]
  },
  {
   "cell_type": "markdown",
   "id": "33790bd4",
   "metadata": {},
   "source": [
    "# Evaluating algorithms"
   ]
  },
  {
   "cell_type": "markdown",
   "id": "2b2b4f91",
   "metadata": {},
   "source": [
    "### KNN"
   ]
  },
  {
   "cell_type": "code",
   "execution_count": 39,
   "id": "47263773",
   "metadata": {},
   "outputs": [],
   "source": [
    "\n",
    "from sklearn.neighbors import KNeighborsClassifier"
   ]
  },
  {
   "cell_type": "code",
   "execution_count": 40,
   "id": "f23f642d",
   "metadata": {},
   "outputs": [],
   "source": [
    "knn = KNeighborsClassifier(n_neighbors=5)"
   ]
  },
  {
   "cell_type": "code",
   "execution_count": 41,
   "id": "3b744c6c",
   "metadata": {},
   "outputs": [
    {
     "data": {
      "text/plain": [
       "KNeighborsClassifier()"
      ]
     },
     "execution_count": 41,
     "metadata": {},
     "output_type": "execute_result"
    }
   ],
   "source": [
    "knn.fit(trainX, trainY)"
   ]
  },
  {
   "cell_type": "code",
   "execution_count": 42,
   "id": "35789d57",
   "metadata": {},
   "outputs": [],
   "source": [
    "#evaluate the knn model\n",
    "yhat_train = knn.predict(trainX)\n",
    "yhat_val = knn.predict(valX)"
   ]
  },
  {
   "cell_type": "code",
   "execution_count": 43,
   "id": "57880ce1",
   "metadata": {},
   "outputs": [
    {
     "data": {
      "text/plain": [
       "array([0, 0, 0, 0, 0, 0, 0, 1, 1, 1, 1, 1, 1, 1])"
      ]
     },
     "execution_count": 43,
     "metadata": {},
     "output_type": "execute_result"
    }
   ],
   "source": [
    "valY"
   ]
  },
  {
   "cell_type": "code",
   "execution_count": 44,
   "id": "500d0a83",
   "metadata": {},
   "outputs": [
    {
     "data": {
      "text/plain": [
       "(14,)"
      ]
     },
     "execution_count": 44,
     "metadata": {},
     "output_type": "execute_result"
    }
   ],
   "source": [
    "yhat_val.shape"
   ]
  },
  {
   "cell_type": "code",
   "execution_count": 45,
   "id": "659d99b8",
   "metadata": {},
   "outputs": [],
   "source": [
    "from sklearn.metrics import confusion_matrix\n",
    "def print_confusion_matrix(model_name, valY, yhat_val):\n",
    "    cm = confusion_matrix(valY, yhat_val)\n",
    "    total = sum(sum(cm))\n",
    "    acc = (cm[0,0]+cm[1,1])/ total\n",
    "    sensitivity = cm[0,0]/(cm[0,0] + cm[0,1])\n",
    "    specificity = cm[1,1]/(cm[1,0] + cm[1,1])\n",
    "    \n",
    "    print(\"Modelo: {}\".format(model_name))\n",
    "    print(\"Acurácia: {:4f}\".format(acc))\n",
    "    print(\"Sensitividade: {:4f}\".format(sensitivity))\n",
    "    print(\"Especificidade: {:4f}\".format(specificity))\n",
    "    \n",
    "    from mlxtend.plotting import plot_confusion_matrix\n",
    "    fig, ax = plot_confusion_matrix(conf_mat=cm, figsize=(5,5))\n",
    "    plt.show()"
   ]
  },
  {
   "cell_type": "code",
   "execution_count": 46,
   "id": "97b8214b",
   "metadata": {},
   "outputs": [
    {
     "name": "stdout",
     "output_type": "stream",
     "text": [
      "Modelo: KNN\n",
      "Acurácia: 1.000000\n",
      "Sensitividade: 1.000000\n",
      "Especificidade: 1.000000\n"
     ]
    },
    {
     "data": {
      "image/png": "[encoded data removed]",
      "text/plain": [
       "<Figure size 360x360 with 1 Axes>"
      ]
     },
     "metadata": {
      "needs_background": "light"
     },
     "output_type": "display_data"
    }
   ],
   "source": [
    "print_confusion_matrix(\"KNN\",valY,yhat_val)"
   ]
  },
  {
   "cell_type": "markdown",
   "id": "e1c8159d",
   "metadata": {},
   "source": [
    "### SVM"
   ]
  },
  {
   "cell_type": "code",
   "execution_count": 47,
   "id": "746bb717",
   "metadata": {},
   "outputs": [
    {
     "data": {
      "text/plain": [
       "SVC()"
      ]
     },
     "execution_count": 47,
     "metadata": {},
     "output_type": "execute_result"
    }
   ],
   "source": [
    "from sklearn import svm\n",
    "\n",
    "svm = svm.SVC()\n",
    "svm.fit(trainX, trainY)"
   ]
  },
  {
   "cell_type": "code",
   "execution_count": 48,
   "id": "6dfd3647",
   "metadata": {},
   "outputs": [],
   "source": [
    "#evaluate the knn model\n",
    "yhat_train = svm.predict(trainX)\n",
    "yhat_val = svm.predict(valX)"
   ]
  },
  {
   "cell_type": "code",
   "execution_count": 49,
   "id": "3524da54",
   "metadata": {
    "scrolled": true
   },
   "outputs": [
    {
     "name": "stdout",
     "output_type": "stream",
     "text": [
      "Modelo: SVM\n",
      "Acurácia: 1.000000\n",
      "Sensitividade: 1.000000\n",
      "Especificidade: 1.000000\n"
     ]
    },
    {
     "data": {
      "image/png": "[encoded data removed]",
      "text/plain": [
       "<Figure size 360x360 with 1 Axes>"
      ]
     },
     "metadata": {
      "needs_background": "light"
     },
     "output_type": "display_data"
    }
   ],
   "source": [
    "print_confusion_matrix(\"SVM\", valY, yhat_val)"
   ]
  },
  {
   "cell_type": "markdown",
   "id": "3baf368f",
   "metadata": {},
   "source": [
    "### Multilayer perceptron"
   ]
  },
  {
   "cell_type": "code",
   "execution_count": 50,
   "id": "779c752e",
   "metadata": {},
   "outputs": [],
   "source": [
    "from tensorflow.keras.utils import to_categorical"
   ]
  },
  {
   "cell_type": "code",
   "execution_count": 51,
   "id": "e448d611",
   "metadata": {},
   "outputs": [],
   "source": [
    "#classe vira uma posicao (class 1, class 2)\n",
    "trainY = to_categorical(trainY)\n",
    "valY = to_categorical(valY)"
   ]
  },
  {
   "cell_type": "code",
   "execution_count": 52,
   "id": "cd6261d5",
   "metadata": {},
   "outputs": [],
   "source": [
    "from tensorflow.keras import models\n",
    "from tensorflow.keras import layers"
   ]
  },
  {
   "cell_type": "code",
   "execution_count": 53,
   "id": "943a32c8",
   "metadata": {},
   "outputs": [
    {
     "name": "stdout",
     "output_type": "stream",
     "text": [
      "Model: \"sequential_1\"\n",
      "_________________________________________________________________\n",
      "Layer (type)                 Output Shape              Param #   \n",
      "=================================================================\n",
      "dense_2 (Dense)              (None, 64)                8256      \n",
      "_________________________________________________________________\n",
      "dropout_1 (Dropout)          (None, 64)                0         \n",
      "_________________________________________________________________\n",
      "dense_3 (Dense)              (None, 2)                 130       \n",
      "=================================================================\n",
      "Total params: 8,386\n",
      "Trainable params: 8,386\n",
      "Non-trainable params: 0\n",
      "_________________________________________________________________\n"
     ]
    }
   ],
   "source": [
    "model = models.Sequential()\n",
    "model.add(layers.Dense(64,activation=\"relu\",input_shape=(128,)))\n",
    "model.add(layers.Dropout(0.5))\n",
    "model.add(layers.Dense(2,activation=\"softmax\"))\n",
    "\n",
    "model.summary()"
   ]
  },
  {
   "cell_type": "code",
   "execution_count": 54,
   "id": "141f980a",
   "metadata": {},
   "outputs": [],
   "source": [
    "import tensorflow as tf\n",
    "model.compile(optimizer=\"adam\",\n",
    "             loss = \"categorical_crossentropy\",\n",
    "             metrics = ['accuracy']\n",
    "             #metrics = [tf.keras.metrics.Recall()]\n",
    "             )\n",
    "\n"
   ]
  },
  {
   "cell_type": "code",
   "execution_count": null,
   "id": "a599319a",
   "metadata": {
    "scrolled": true
   },
   "outputs": [
    {
     "name": "stderr",
     "output_type": "stream",
     "text": [
      "ERROR:root:Internal Python error in the inspect module.\n",
      "Below is the traceback from this internal error.\n",
      "\n",
      "ERROR:root:Internal Python error in the inspect module.\n",
      "Below is the traceback from this internal error.\n",
      "\n",
      "ERROR:root:Internal Python error in the inspect module.\n",
      "Below is the traceback from this internal error.\n",
      "\n"
     ]
    },
    {
     "name": "stdout",
     "output_type": "stream",
     "text": [
      "Traceback (most recent call last):\n",
      "  File \"C:\\Users\\diego\\.conda\\envs\\py34\\lib\\site-packages\\IPython\\core\\interactiveshell.py\", line 3444, in run_code\n",
      "    exec(code_obj, self.user_global_ns, self.user_ns)\n",
      "  File \"C:\\Users\\diego\\AppData\\Local\\Temp/ipykernel_17568/2663255996.py\", line 1, in <module>\n",
      "    model.fit(trainX, trainY, epochs=15, batch_size=8)\n",
      "  File \"C:\\Users\\diego\\.conda\\envs\\py34\\lib\\site-packages\\tensorflow_core\\python\\keras\\engine\\training.py\", line 819, in fit\n",
      "    use_multiprocessing=use_multiprocessing)\n",
      "  File \"C:\\Users\\diego\\.conda\\envs\\py34\\lib\\site-packages\\tensorflow_core\\python\\keras\\engine\\training_v2.py\", line 235, in fit\n",
      "    use_multiprocessing=use_multiprocessing)\n",
      "  File \"C:\\Users\\diego\\.conda\\envs\\py34\\lib\\site-packages\\tensorflow_core\\python\\keras\\engine\\training_v2.py\", line 593, in _process_training_inputs\n",
      "    use_multiprocessing=use_multiprocessing)\n",
      "  File \"C:\\Users\\diego\\.conda\\envs\\py34\\lib\\site-packages\\tensorflow_core\\python\\keras\\engine\\training_v2.py\", line 646, in _process_inputs\n",
      "    x, y, sample_weight=sample_weights)\n",
      "  File \"C:\\Users\\diego\\.conda\\envs\\py34\\lib\\site-packages\\tensorflow_core\\python\\keras\\engine\\training.py\", line 2383, in _standardize_user_data\n",
      "    batch_size=batch_size)\n",
      "  File \"C:\\Users\\diego\\.conda\\envs\\py34\\lib\\site-packages\\tensorflow_core\\python\\keras\\engine\\training.py\", line 2489, in _standardize_tensors\n",
      "    y, self._feed_loss_fns, feed_output_shapes)\n",
      "  File \"C:\\Users\\diego\\.conda\\envs\\py34\\lib\\site-packages\\tensorflow_core\\python\\keras\\engine\\training_utils.py\", line 810, in check_loss_and_target_compatibility\n",
      "    ' while using as loss `' + loss_name + '`. '\n",
      "ValueError: A target array with shape (144, 3) was passed for an output of shape (None, 2) while using as loss `categorical_crossentropy`. This loss expects targets to have the same shape as the output.\n",
      "\n",
      "During handling of the above exception, another exception occurred:\n",
      "\n",
      "Traceback (most recent call last):\n",
      "  File \"C:\\Users\\diego\\.conda\\envs\\py34\\lib\\site-packages\\IPython\\core\\interactiveshell.py\", line 2064, in showtraceback\n",
      "    stb = value._render_traceback_()\n",
      "AttributeError: 'ValueError' object has no attribute '_render_traceback_'\n",
      "\n",
      "During handling of the above exception, another exception occurred:\n",
      "\n",
      "Traceback (most recent call last):\n",
      "  File \"C:\\Users\\diego\\.conda\\envs\\py34\\lib\\site-packages\\IPython\\core\\ultratb.py\", line 1101, in get_records\n",
      "    return _fixed_getinnerframes(etb, number_of_lines_of_context, tb_offset)\n",
      "  File \"C:\\Users\\diego\\.conda\\envs\\py34\\lib\\site-packages\\IPython\\core\\ultratb.py\", line 248, in wrapped\n",
      "    return f(*args, **kwargs)\n",
      "  File \"C:\\Users\\diego\\.conda\\envs\\py34\\lib\\site-packages\\IPython\\core\\ultratb.py\", line 281, in _fixed_getinnerframes\n",
      "    records = fix_frame_records_filenames(inspect.getinnerframes(etb, context))\n",
      "  File \"C:\\Users\\diego\\.conda\\envs\\py34\\lib\\inspect.py\", line 1502, in getinnerframes\n",
      "    frameinfo = (tb.tb_frame,) + getframeinfo(tb, context)\n",
      "  File \"C:\\Users\\diego\\.conda\\envs\\py34\\lib\\inspect.py\", line 1460, in getframeinfo\n",
      "    filename = getsourcefile(frame) or getfile(frame)\n",
      "  File \"C:\\Users\\diego\\.conda\\envs\\py34\\lib\\inspect.py\", line 696, in getsourcefile\n",
      "    if getattr(getmodule(object, filename), '__loader__', None) is not None:\n",
      "  File \"C:\\Users\\diego\\.conda\\envs\\py34\\lib\\inspect.py\", line 733, in getmodule\n",
      "    if ismodule(module) and hasattr(module, '__file__'):\n",
      "  File \"C:\\Users\\diego\\.conda\\envs\\py34\\lib\\site-packages\\tensorflow\\__init__.py\", line 50, in __getattr__\n",
      "    module = self._load()\n",
      "  File \"C:\\Users\\diego\\.conda\\envs\\py34\\lib\\site-packages\\tensorflow\\__init__.py\", line 44, in _load\n",
      "    module = _importlib.import_module(self.__name__)\n",
      "  File \"C:\\Users\\diego\\.conda\\envs\\py34\\lib\\importlib\\__init__.py\", line 127, in import_module\n",
      "    return _bootstrap._gcd_import(name[level:], package, level)\n",
      "  File \"<frozen importlib._bootstrap>\", line 1006, in _gcd_import\n",
      "  File \"<frozen importlib._bootstrap>\", line 983, in _find_and_load\n",
      "  File \"<frozen importlib._bootstrap>\", line 965, in _find_and_load_unlocked\n",
      "ModuleNotFoundError: No module named 'tensorflow_core.estimator'\n",
      "Traceback (most recent call last):\n",
      "  File \"C:\\Users\\diego\\.conda\\envs\\py34\\lib\\site-packages\\IPython\\core\\interactiveshell.py\", line 3444, in run_code\n",
      "    exec(code_obj, self.user_global_ns, self.user_ns)\n",
      "  File \"C:\\Users\\diego\\AppData\\Local\\Temp/ipykernel_17568/2663255996.py\", line 1, in <module>\n",
      "    model.fit(trainX, trainY, epochs=15, batch_size=8)\n",
      "  File \"C:\\Users\\diego\\.conda\\envs\\py34\\lib\\site-packages\\tensorflow_core\\python\\keras\\engine\\training.py\", line 819, in fit\n",
      "    use_multiprocessing=use_multiprocessing)\n",
      "  File \"C:\\Users\\diego\\.conda\\envs\\py34\\lib\\site-packages\\tensorflow_core\\python\\keras\\engine\\training_v2.py\", line 235, in fit\n",
      "    use_multiprocessing=use_multiprocessing)\n",
      "  File \"C:\\Users\\diego\\.conda\\envs\\py34\\lib\\site-packages\\tensorflow_core\\python\\keras\\engine\\training_v2.py\", line 593, in _process_training_inputs\n",
      "    use_multiprocessing=use_multiprocessing)\n",
      "  File \"C:\\Users\\diego\\.conda\\envs\\py34\\lib\\site-packages\\tensorflow_core\\python\\keras\\engine\\training_v2.py\", line 646, in _process_inputs\n",
      "    x, y, sample_weight=sample_weights)\n",
      "  File \"C:\\Users\\diego\\.conda\\envs\\py34\\lib\\site-packages\\tensorflow_core\\python\\keras\\engine\\training.py\", line 2383, in _standardize_user_data\n",
      "    batch_size=batch_size)\n",
      "  File \"C:\\Users\\diego\\.conda\\envs\\py34\\lib\\site-packages\\tensorflow_core\\python\\keras\\engine\\training.py\", line 2489, in _standardize_tensors\n",
      "    y, self._feed_loss_fns, feed_output_shapes)\n",
      "  File \"C:\\Users\\diego\\.conda\\envs\\py34\\lib\\site-packages\\tensorflow_core\\python\\keras\\engine\\training_utils.py\", line 810, in check_loss_and_target_compatibility\n",
      "    ' while using as loss `' + loss_name + '`. '\n",
      "ValueError: A target array with shape (144, 3) was passed for an output of shape (None, 2) while using as loss `categorical_crossentropy`. This loss expects targets to have the same shape as the output.\n",
      "\n",
      "During handling of the above exception, another exception occurred:\n",
      "\n",
      "Traceback (most recent call last):\n",
      "  File \"C:\\Users\\diego\\.conda\\envs\\py34\\lib\\site-packages\\IPython\\core\\interactiveshell.py\", line 2064, in showtraceback\n",
      "    stb = value._render_traceback_()\n",
      "AttributeError: 'ValueError' object has no attribute '_render_traceback_'\n",
      "\n",
      "During handling of the above exception, another exception occurred:\n",
      "\n",
      "Traceback (most recent call last):\n",
      "  File \"C:\\Users\\diego\\.conda\\envs\\py34\\lib\\site-packages\\IPython\\core\\interactiveshell.py\", line 3364, in run_ast_nodes\n",
      "    if (await self.run_code(code, result,  async_=asy)):\n",
      "  File \"C:\\Users\\diego\\.conda\\envs\\py34\\lib\\site-packages\\IPython\\core\\interactiveshell.py\", line 3461, in run_code\n",
      "    self.showtraceback(running_compiled_code=True)\n",
      "  File \"C:\\Users\\diego\\.conda\\envs\\py34\\lib\\site-packages\\IPython\\core\\interactiveshell.py\", line 2067, in showtraceback\n",
      "    value, tb, tb_offset=tb_offset)\n",
      "  File \"C:\\Users\\diego\\.conda\\envs\\py34\\lib\\site-packages\\IPython\\core\\ultratb.py\", line 1368, in structured_traceback\n",
      "    self, etype, value, tb, tb_offset, number_of_lines_of_context)\n",
      "  File \"C:\\Users\\diego\\.conda\\envs\\py34\\lib\\site-packages\\IPython\\core\\ultratb.py\", line 1268, in structured_traceback\n",
      "    self, etype, value, tb, tb_offset, number_of_lines_of_context\n",
      "  File \"C:\\Users\\diego\\.conda\\envs\\py34\\lib\\site-packages\\IPython\\core\\ultratb.py\", line 1125, in structured_traceback\n",
      "    tb_offset)\n",
      "  File \"C:\\Users\\diego\\.conda\\envs\\py34\\lib\\site-packages\\IPython\\core\\ultratb.py\", line 1082, in format_exception_as_a_whole\n",
      "    last_unique, recursion_repeat = find_recursion(orig_etype, evalue, records)\n",
      "  File \"C:\\Users\\diego\\.conda\\envs\\py34\\lib\\site-packages\\IPython\\core\\ultratb.py\", line 382, in find_recursion\n",
      "    return len(records), 0\n",
      "TypeError: object of type 'NoneType' has no len()\n",
      "\n",
      "During handling of the above exception, another exception occurred:\n",
      "\n",
      "Traceback (most recent call last):\n",
      "  File \"C:\\Users\\diego\\.conda\\envs\\py34\\lib\\site-packages\\IPython\\core\\interactiveshell.py\", line 2064, in showtraceback\n",
      "    stb = value._render_traceback_()\n",
      "AttributeError: 'TypeError' object has no attribute '_render_traceback_'\n",
      "\n",
      "During handling of the above exception, another exception occurred:\n",
      "\n",
      "Traceback (most recent call last):\n",
      "  File \"C:\\Users\\diego\\.conda\\envs\\py34\\lib\\site-packages\\IPython\\core\\ultratb.py\", line 1101, in get_records\n",
      "    return _fixed_getinnerframes(etb, number_of_lines_of_context, tb_offset)\n",
      "  File \"C:\\Users\\diego\\.conda\\envs\\py34\\lib\\site-packages\\IPython\\core\\ultratb.py\", line 248, in wrapped\n",
      "    return f(*args, **kwargs)\n",
      "  File \"C:\\Users\\diego\\.conda\\envs\\py34\\lib\\site-packages\\IPython\\core\\ultratb.py\", line 281, in _fixed_getinnerframes\n",
      "    records = fix_frame_records_filenames(inspect.getinnerframes(etb, context))\n",
      "  File \"C:\\Users\\diego\\.conda\\envs\\py34\\lib\\inspect.py\", line 1502, in getinnerframes\n",
      "    frameinfo = (tb.tb_frame,) + getframeinfo(tb, context)\n",
      "  File \"C:\\Users\\diego\\.conda\\envs\\py34\\lib\\inspect.py\", line 1460, in getframeinfo\n",
      "    filename = getsourcefile(frame) or getfile(frame)\n",
      "  File \"C:\\Users\\diego\\.conda\\envs\\py34\\lib\\inspect.py\", line 696, in getsourcefile\n",
      "    if getattr(getmodule(object, filename), '__loader__', None) is not None:\n",
      "  File \"C:\\Users\\diego\\.conda\\envs\\py34\\lib\\inspect.py\", line 733, in getmodule\n",
      "    if ismodule(module) and hasattr(module, '__file__'):\n",
      "  File \"C:\\Users\\diego\\.conda\\envs\\py34\\lib\\site-packages\\tensorflow\\__init__.py\", line 50, in __getattr__\n",
      "    module = self._load()\n",
      "  File \"C:\\Users\\diego\\.conda\\envs\\py34\\lib\\site-packages\\tensorflow\\__init__.py\", line 44, in _load\n",
      "    module = _importlib.import_module(self.__name__)\n",
      "  File \"C:\\Users\\diego\\.conda\\envs\\py34\\lib\\importlib\\__init__.py\", line 127, in import_module\n",
      "    return _bootstrap._gcd_import(name[level:], package, level)\n",
      "  File \"<frozen importlib._bootstrap>\", line 1006, in _gcd_import\n",
      "  File \"<frozen importlib._bootstrap>\", line 983, in _find_and_load\n",
      "  File \"<frozen importlib._bootstrap>\", line 965, in _find_and_load_unlocked\n",
      "ModuleNotFoundError: No module named 'tensorflow_core.estimator'\n",
      "Traceback (most recent call last):\n",
      "  File \"C:\\Users\\diego\\.conda\\envs\\py34\\lib\\site-packages\\IPython\\core\\interactiveshell.py\", line 3444, in run_code\n",
      "    exec(code_obj, self.user_global_ns, self.user_ns)\n",
      "  File \"C:\\Users\\diego\\AppData\\Local\\Temp/ipykernel_17568/2663255996.py\", line 1, in <module>\n",
      "    model.fit(trainX, trainY, epochs=15, batch_size=8)\n",
      "  File \"C:\\Users\\diego\\.conda\\envs\\py34\\lib\\site-packages\\tensorflow_core\\python\\keras\\engine\\training.py\", line 819, in fit\n",
      "    use_multiprocessing=use_multiprocessing)\n",
      "  File \"C:\\Users\\diego\\.conda\\envs\\py34\\lib\\site-packages\\tensorflow_core\\python\\keras\\engine\\training_v2.py\", line 235, in fit\n",
      "    use_multiprocessing=use_multiprocessing)\n",
      "  File \"C:\\Users\\diego\\.conda\\envs\\py34\\lib\\site-packages\\tensorflow_core\\python\\keras\\engine\\training_v2.py\", line 593, in _process_training_inputs\n",
      "    use_multiprocessing=use_multiprocessing)\n",
      "  File \"C:\\Users\\diego\\.conda\\envs\\py34\\lib\\site-packages\\tensorflow_core\\python\\keras\\engine\\training_v2.py\", line 646, in _process_inputs\n",
      "    x, y, sample_weight=sample_weights)\n",
      "  File \"C:\\Users\\diego\\.conda\\envs\\py34\\lib\\site-packages\\tensorflow_core\\python\\keras\\engine\\training.py\", line 2383, in _standardize_user_data\n",
      "    batch_size=batch_size)\n",
      "  File \"C:\\Users\\diego\\.conda\\envs\\py34\\lib\\site-packages\\tensorflow_core\\python\\keras\\engine\\training.py\", line 2489, in _standardize_tensors\n",
      "    y, self._feed_loss_fns, feed_output_shapes)\n",
      "  File \"C:\\Users\\diego\\.conda\\envs\\py34\\lib\\site-packages\\tensorflow_core\\python\\keras\\engine\\training_utils.py\", line 810, in check_loss_and_target_compatibility\n",
      "    ' while using as loss `' + loss_name + '`. '\n",
      "ValueError: A target array with shape (144, 3) was passed for an output of shape (None, 2) while using as loss `categorical_crossentropy`. This loss expects targets to have the same shape as the output.\n",
      "\n",
      "During handling of the above exception, another exception occurred:\n",
      "\n",
      "Traceback (most recent call last):\n",
      "  File \"C:\\Users\\diego\\.conda\\envs\\py34\\lib\\site-packages\\IPython\\core\\interactiveshell.py\", line 2064, in showtraceback\n",
      "    stb = value._render_traceback_()\n",
      "AttributeError: 'ValueError' object has no attribute '_render_traceback_'\n",
      "\n",
      "During handling of the above exception, another exception occurred:\n",
      "\n",
      "Traceback (most recent call last):\n",
      "  File \"C:\\Users\\diego\\.conda\\envs\\py34\\lib\\site-packages\\IPython\\core\\interactiveshell.py\", line 3364, in run_ast_nodes\n",
      "    if (await self.run_code(code, result,  async_=asy)):\n",
      "  File \"C:\\Users\\diego\\.conda\\envs\\py34\\lib\\site-packages\\IPython\\core\\interactiveshell.py\", line 3461, in run_code\n",
      "    self.showtraceback(running_compiled_code=True)\n",
      "  File \"C:\\Users\\diego\\.conda\\envs\\py34\\lib\\site-packages\\IPython\\core\\interactiveshell.py\", line 2067, in showtraceback\n",
      "    value, tb, tb_offset=tb_offset)\n",
      "  File \"C:\\Users\\diego\\.conda\\envs\\py34\\lib\\site-packages\\IPython\\core\\ultratb.py\", line 1368, in structured_traceback\n",
      "    self, etype, value, tb, tb_offset, number_of_lines_of_context)\n",
      "  File \"C:\\Users\\diego\\.conda\\envs\\py34\\lib\\site-packages\\IPython\\core\\ultratb.py\", line 1268, in structured_traceback\n",
      "    self, etype, value, tb, tb_offset, number_of_lines_of_context\n",
      "  File \"C:\\Users\\diego\\.conda\\envs\\py34\\lib\\site-packages\\IPython\\core\\ultratb.py\", line 1125, in structured_traceback\n",
      "    tb_offset)\n",
      "  File \"C:\\Users\\diego\\.conda\\envs\\py34\\lib\\site-packages\\IPython\\core\\ultratb.py\", line 1082, in format_exception_as_a_whole\n",
      "    last_unique, recursion_repeat = find_recursion(orig_etype, evalue, records)\n",
      "  File \"C:\\Users\\diego\\.conda\\envs\\py34\\lib\\site-packages\\IPython\\core\\ultratb.py\", line 382, in find_recursion\n",
      "    return len(records), 0\n",
      "TypeError: object of type 'NoneType' has no len()\n",
      "\n",
      "During handling of the above exception, another exception occurred:\n",
      "\n",
      "Traceback (most recent call last):\n",
      "  File \"C:\\Users\\diego\\.conda\\envs\\py34\\lib\\site-packages\\IPython\\core\\interactiveshell.py\", line 2064, in showtraceback\n",
      "    stb = value._render_traceback_()\n",
      "AttributeError: 'TypeError' object has no attribute '_render_traceback_'\n",
      "\n",
      "During handling of the above exception, another exception occurred:\n",
      "\n",
      "Traceback (most recent call last):\n",
      "  File \"C:\\Users\\diego\\.conda\\envs\\py34\\lib\\site-packages\\IPython\\core\\interactiveshell.py\", line 2947, in _run_cell\n",
      "    return runner(coro)\n",
      "  File \"C:\\Users\\diego\\.conda\\envs\\py34\\lib\\site-packages\\IPython\\core\\async_helpers.py\", line 68, in _pseudo_sync_runner\n",
      "    coro.send(None)\n",
      "  File \"C:\\Users\\diego\\.conda\\envs\\py34\\lib\\site-packages\\IPython\\core\\interactiveshell.py\", line 3173, in run_cell_async\n",
      "    interactivity=interactivity, compiler=compiler, result=result)\n",
      "  File \"C:\\Users\\diego\\.conda\\envs\\py34\\lib\\site-packages\\IPython\\core\\interactiveshell.py\", line 3383, in run_ast_nodes\n",
      "    self.showtraceback()\n",
      "  File \"C:\\Users\\diego\\.conda\\envs\\py34\\lib\\site-packages\\IPython\\core\\interactiveshell.py\", line 2067, in showtraceback\n",
      "    value, tb, tb_offset=tb_offset)\n",
      "  File \"C:\\Users\\diego\\.conda\\envs\\py34\\lib\\site-packages\\IPython\\core\\ultratb.py\", line 1368, in structured_traceback\n",
      "    self, etype, value, tb, tb_offset, number_of_lines_of_context)\n",
      "  File \"C:\\Users\\diego\\.conda\\envs\\py34\\lib\\site-packages\\IPython\\core\\ultratb.py\", line 1268, in structured_traceback\n",
      "    self, etype, value, tb, tb_offset, number_of_lines_of_context\n",
      "  File \"C:\\Users\\diego\\.conda\\envs\\py34\\lib\\site-packages\\IPython\\core\\ultratb.py\", line 1143, in structured_traceback\n",
      "    chained_exceptions_tb_offset)\n",
      "  File \"C:\\Users\\diego\\.conda\\envs\\py34\\lib\\site-packages\\IPython\\core\\ultratb.py\", line 1082, in format_exception_as_a_whole\n",
      "    last_unique, recursion_repeat = find_recursion(orig_etype, evalue, records)\n",
      "  File \"C:\\Users\\diego\\.conda\\envs\\py34\\lib\\site-packages\\IPython\\core\\ultratb.py\", line 382, in find_recursion\n",
      "    return len(records), 0\n",
      "TypeError: object of type 'NoneType' has no len()\n",
      "\n",
      "During handling of the above exception, another exception occurred:\n",
      "\n",
      "Traceback (most recent call last):\n",
      "  File \"C:\\Users\\diego\\.conda\\envs\\py34\\lib\\site-packages\\IPython\\core\\interactiveshell.py\", line 2064, in showtraceback\n",
      "    stb = value._render_traceback_()\n",
      "AttributeError: 'TypeError' object has no attribute '_render_traceback_'\n",
      "\n",
      "During handling of the above exception, another exception occurred:\n",
      "\n",
      "Traceback (most recent call last):\n",
      "  File \"C:\\Users\\diego\\.conda\\envs\\py34\\lib\\site-packages\\IPython\\core\\ultratb.py\", line 1101, in get_records\n",
      "    return _fixed_getinnerframes(etb, number_of_lines_of_context, tb_offset)\n",
      "  File \"C:\\Users\\diego\\.conda\\envs\\py34\\lib\\site-packages\\IPython\\core\\ultratb.py\", line 248, in wrapped\n",
      "    return f(*args, **kwargs)\n",
      "  File \"C:\\Users\\diego\\.conda\\envs\\py34\\lib\\site-packages\\IPython\\core\\ultratb.py\", line 281, in _fixed_getinnerframes\n",
      "    records = fix_frame_records_filenames(inspect.getinnerframes(etb, context))\n",
      "  File \"C:\\Users\\diego\\.conda\\envs\\py34\\lib\\inspect.py\", line 1502, in getinnerframes\n",
      "    frameinfo = (tb.tb_frame,) + getframeinfo(tb, context)\n",
      "  File \"C:\\Users\\diego\\.conda\\envs\\py34\\lib\\inspect.py\", line 1460, in getframeinfo\n",
      "    filename = getsourcefile(frame) or getfile(frame)\n",
      "  File \"C:\\Users\\diego\\.conda\\envs\\py34\\lib\\inspect.py\", line 696, in getsourcefile\n",
      "    if getattr(getmodule(object, filename), '__loader__', None) is not None:\n",
      "  File \"C:\\Users\\diego\\.conda\\envs\\py34\\lib\\inspect.py\", line 733, in getmodule\n",
      "    if ismodule(module) and hasattr(module, '__file__'):\n",
      "  File \"C:\\Users\\diego\\.conda\\envs\\py34\\lib\\site-packages\\tensorflow\\__init__.py\", line 50, in __getattr__\n",
      "    module = self._load()\n",
      "  File \"C:\\Users\\diego\\.conda\\envs\\py34\\lib\\site-packages\\tensorflow\\__init__.py\", line 44, in _load\n",
      "    module = _importlib.import_module(self.__name__)\n",
      "  File \"C:\\Users\\diego\\.conda\\envs\\py34\\lib\\importlib\\__init__.py\", line 127, in import_module\n",
      "    return _bootstrap._gcd_import(name[level:], package, level)\n",
      "  File \"<frozen importlib._bootstrap>\", line 1006, in _gcd_import\n",
      "  File \"<frozen importlib._bootstrap>\", line 983, in _find_and_load\n",
      "  File \"<frozen importlib._bootstrap>\", line 965, in _find_and_load_unlocked\n",
      "ModuleNotFoundError: No module named 'tensorflow_core.estimator'\n"
     ]
    }
   ],
   "source": [
    "model.fit(trainX, trainY, epochs=15, batch_size=8)\n",
    "model.save(\"test.h5\")"
   ]
  },
  {
   "cell_type": "code",
   "execution_count": 55,
   "id": "ec3721b6",
   "metadata": {},
   "outputs": [
    {
     "name": "stdout",
     "output_type": "stream",
     "text": [
      "ERROR! Session/line number was not unique in database. History logging moved to new session 662\n"
     ]
    }
   ],
   "source": [
    "#evaluate the knn model\n",
    "yhat_train = model.predict(trainX)\n",
    "yhat_val = model.predict(valX)"
   ]
  },
  {
   "cell_type": "code",
   "execution_count": 56,
   "id": "e6be4ea6",
   "metadata": {},
   "outputs": [],
   "source": [
    "valY = np.argmax(valY, axis=1)\n",
    "yhat_val = np.argmax(yhat_val, axis=1)"
   ]
  },
  {
   "cell_type": "code",
   "execution_count": 57,
   "id": "e3aadca9",
   "metadata": {},
   "outputs": [
    {
     "name": "stdout",
     "output_type": "stream",
     "text": [
      "Modelo: Multilayer perceptron\n",
      "Acurácia: 0.500000\n",
      "Sensitividade: 1.000000\n",
      "Especificidade: 0.000000\n"
     ]
    },
    {
     "data": {
      "image/png": "[encoded data removed]",
      "text/plain": [
       "<Figure size 360x360 with 1 Axes>"
      ]
     },
     "metadata": {
      "needs_background": "light"
     },
     "output_type": "display_data"
    }
   ],
   "source": [
    "print_confusion_matrix(\"Multilayer perceptron\", valY, yhat_val)"
   ]
  },
  {
   "cell_type": "code",
   "execution_count": null,
   "id": "4c93269e",
   "metadata": {},
   "outputs": [],
   "source": []
  },
  {
   "cell_type": "code",
   "execution_count": null,
   "id": "e7205fb2",
   "metadata": {},
   "outputs": [],
   "source": []
  },
  {
   "cell_type": "code",
   "execution_count": null,
   "id": "65d43f9d",
   "metadata": {},
   "outputs": [],
   "source": []
  },
  {
   "cell_type": "code",
   "execution_count": null,
   "id": "56dec838",
   "metadata": {},
   "outputs": [],
   "source": []
  }
 ],
 "metadata": {
  "kernelspec": {
   "display_name": "Python 3 (ipykernel)",
   "language": "python",
   "name": "python3"
  },
  "language_info": {
   "codemirror_mode": {
    "name": "ipython",
    "version": 3
   },
   "file_extension": ".py",
   "mimetype": "text/x-python",
   "name": "python",
   "nbconvert_exporter": "python",
   "pygments_lexer": "ipython3",
   "version": "3.7.4"
  }
 },
 "nbformat": 4,
 "nbformat_minor": 5
}
