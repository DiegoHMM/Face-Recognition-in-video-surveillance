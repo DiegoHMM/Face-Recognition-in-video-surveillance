{
 "cells": [
  {
   "cell_type": "code",
   "execution_count": 121,
   "id": "99e3c33b",
   "metadata": {},
   "outputs": [],
   "source": [
    "from PIL import Image\n",
    "import numpy as np\n",
    "from numpy import asarray, expand_dims\n",
    "from os import listdir\n",
    "from os.path import isdir\n",
    "import pandas as pd\n",
    "import matplotlib.pyplot as plt\n",
    "from sklearn.metrics import plot_confusion_matrix, accuracy_score\n",
    "import pickle"
   ]
  },
  {
   "cell_type": "code",
   "execution_count": 122,
   "id": "762d27f7",
   "metadata": {},
   "outputs": [],
   "source": [
    "df = pd.read_csv('faces_train_embeddings.csv',index_col=0)"
   ]
  },
  {
   "cell_type": "code",
   "execution_count": 123,
   "id": "dc2d0c6b",
   "metadata": {},
   "outputs": [
    {
     "data": {
      "text/html": [
       "<div>\n",
       "<style scoped>\n",
       "    .dataframe tbody tr th:only-of-type {\n",
       "        vertical-align: middle;\n",
       "    }\n",
       "\n",
       "    .dataframe tbody tr th {\n",
       "        vertical-align: top;\n",
       "    }\n",
       "\n",
       "    .dataframe thead th {\n",
       "        text-align: right;\n",
       "    }\n",
       "</style>\n",
       "<table border=\"1\" class=\"dataframe\">\n",
       "  <thead>\n",
       "    <tr style=\"text-align: right;\">\n",
       "      <th></th>\n",
       "      <th>0</th>\n",
       "      <th>1</th>\n",
       "      <th>2</th>\n",
       "      <th>3</th>\n",
       "      <th>4</th>\n",
       "      <th>5</th>\n",
       "      <th>6</th>\n",
       "      <th>7</th>\n",
       "      <th>8</th>\n",
       "      <th>9</th>\n",
       "      <th>...</th>\n",
       "      <th>119</th>\n",
       "      <th>120</th>\n",
       "      <th>121</th>\n",
       "      <th>122</th>\n",
       "      <th>123</th>\n",
       "      <th>124</th>\n",
       "      <th>125</th>\n",
       "      <th>126</th>\n",
       "      <th>127</th>\n",
       "      <th>target</th>\n",
       "    </tr>\n",
       "  </thead>\n",
       "  <tbody>\n",
       "    <tr>\n",
       "      <th>0</th>\n",
       "      <td>-1.647590</td>\n",
       "      <td>-2.050291</td>\n",
       "      <td>2.192740</td>\n",
       "      <td>-0.310849</td>\n",
       "      <td>-0.309029</td>\n",
       "      <td>0.080395</td>\n",
       "      <td>0.863480</td>\n",
       "      <td>1.833071</td>\n",
       "      <td>1.469539</td>\n",
       "      <td>-2.226735</td>\n",
       "      <td>...</td>\n",
       "      <td>-0.453190</td>\n",
       "      <td>1.357549</td>\n",
       "      <td>-0.688587</td>\n",
       "      <td>0.387791</td>\n",
       "      <td>-0.474701</td>\n",
       "      <td>-1.109110</td>\n",
       "      <td>0.298009</td>\n",
       "      <td>-0.699501</td>\n",
       "      <td>0.078977</td>\n",
       "      <td>Dessa</td>\n",
       "    </tr>\n",
       "    <tr>\n",
       "      <th>1</th>\n",
       "      <td>-0.861166</td>\n",
       "      <td>-1.164513</td>\n",
       "      <td>1.859924</td>\n",
       "      <td>-1.720223</td>\n",
       "      <td>0.208900</td>\n",
       "      <td>-0.391139</td>\n",
       "      <td>1.063609</td>\n",
       "      <td>2.063228</td>\n",
       "      <td>0.459863</td>\n",
       "      <td>-2.164250</td>\n",
       "      <td>...</td>\n",
       "      <td>-1.101685</td>\n",
       "      <td>1.791857</td>\n",
       "      <td>-0.318591</td>\n",
       "      <td>1.416495</td>\n",
       "      <td>-1.061486</td>\n",
       "      <td>-0.713410</td>\n",
       "      <td>-1.610591</td>\n",
       "      <td>-0.653775</td>\n",
       "      <td>-0.210192</td>\n",
       "      <td>Dessa</td>\n",
       "    </tr>\n",
       "    <tr>\n",
       "      <th>2</th>\n",
       "      <td>0.195232</td>\n",
       "      <td>-1.181850</td>\n",
       "      <td>2.093904</td>\n",
       "      <td>-2.218027</td>\n",
       "      <td>-0.438787</td>\n",
       "      <td>-0.280497</td>\n",
       "      <td>-1.047070</td>\n",
       "      <td>2.230372</td>\n",
       "      <td>0.549884</td>\n",
       "      <td>-1.247451</td>\n",
       "      <td>...</td>\n",
       "      <td>-0.885988</td>\n",
       "      <td>1.448878</td>\n",
       "      <td>-0.477330</td>\n",
       "      <td>0.779704</td>\n",
       "      <td>-1.425694</td>\n",
       "      <td>0.066216</td>\n",
       "      <td>-1.969161</td>\n",
       "      <td>-1.082669</td>\n",
       "      <td>0.812740</td>\n",
       "      <td>Dessa</td>\n",
       "    </tr>\n",
       "    <tr>\n",
       "      <th>3</th>\n",
       "      <td>-1.604782</td>\n",
       "      <td>-2.422320</td>\n",
       "      <td>1.517443</td>\n",
       "      <td>-1.383071</td>\n",
       "      <td>0.588017</td>\n",
       "      <td>-0.112119</td>\n",
       "      <td>0.626909</td>\n",
       "      <td>2.273672</td>\n",
       "      <td>0.968901</td>\n",
       "      <td>-1.612194</td>\n",
       "      <td>...</td>\n",
       "      <td>-1.473051</td>\n",
       "      <td>1.782758</td>\n",
       "      <td>0.337711</td>\n",
       "      <td>0.581356</td>\n",
       "      <td>-0.447030</td>\n",
       "      <td>-0.064406</td>\n",
       "      <td>-0.662852</td>\n",
       "      <td>-0.813822</td>\n",
       "      <td>-0.058389</td>\n",
       "      <td>Dessa</td>\n",
       "    </tr>\n",
       "    <tr>\n",
       "      <th>4</th>\n",
       "      <td>-1.100709</td>\n",
       "      <td>-1.527732</td>\n",
       "      <td>1.620708</td>\n",
       "      <td>-1.118424</td>\n",
       "      <td>-0.075956</td>\n",
       "      <td>-0.231456</td>\n",
       "      <td>1.632379</td>\n",
       "      <td>1.286139</td>\n",
       "      <td>0.501847</td>\n",
       "      <td>-1.417777</td>\n",
       "      <td>...</td>\n",
       "      <td>-0.316608</td>\n",
       "      <td>0.618175</td>\n",
       "      <td>-0.029974</td>\n",
       "      <td>1.216974</td>\n",
       "      <td>-0.384685</td>\n",
       "      <td>-0.779763</td>\n",
       "      <td>-0.021223</td>\n",
       "      <td>-1.605424</td>\n",
       "      <td>-0.730062</td>\n",
       "      <td>Dessa</td>\n",
       "    </tr>\n",
       "  </tbody>\n",
       "</table>\n",
       "<p>5 rows × 129 columns</p>\n",
       "</div>"
      ],
      "text/plain": [
       "          0         1         2         3         4         5         6  \\\n",
       "0 -1.647590 -2.050291  2.192740 -0.310849 -0.309029  0.080395  0.863480   \n",
       "1 -0.861166 -1.164513  1.859924 -1.720223  0.208900 -0.391139  1.063609   \n",
       "2  0.195232 -1.181850  2.093904 -2.218027 -0.438787 -0.280497 -1.047070   \n",
       "3 -1.604782 -2.422320  1.517443 -1.383071  0.588017 -0.112119  0.626909   \n",
       "4 -1.100709 -1.527732  1.620708 -1.118424 -0.075956 -0.231456  1.632379   \n",
       "\n",
       "          7         8         9  ...       119       120       121       122  \\\n",
       "0  1.833071  1.469539 -2.226735  ... -0.453190  1.357549 -0.688587  0.387791   \n",
       "1  2.063228  0.459863 -2.164250  ... -1.101685  1.791857 -0.318591  1.416495   \n",
       "2  2.230372  0.549884 -1.247451  ... -0.885988  1.448878 -0.477330  0.779704   \n",
       "3  2.273672  0.968901 -1.612194  ... -1.473051  1.782758  0.337711  0.581356   \n",
       "4  1.286139  0.501847 -1.417777  ... -0.316608  0.618175 -0.029974  1.216974   \n",
       "\n",
       "        123       124       125       126       127  target  \n",
       "0 -0.474701 -1.109110  0.298009 -0.699501  0.078977   Dessa  \n",
       "1 -1.061486 -0.713410 -1.610591 -0.653775 -0.210192   Dessa  \n",
       "2 -1.425694  0.066216 -1.969161 -1.082669  0.812740   Dessa  \n",
       "3 -0.447030 -0.064406 -0.662852 -0.813822 -0.058389   Dessa  \n",
       "4 -0.384685 -0.779763 -0.021223 -1.605424 -0.730062   Dessa  \n",
       "\n",
       "[5 rows x 129 columns]"
      ]
     },
     "execution_count": 123,
     "metadata": {},
     "output_type": "execute_result"
    }
   ],
   "source": [
    "df.head(5)"
   ]
  },
  {
   "cell_type": "code",
   "execution_count": 124,
   "id": "b945f366",
   "metadata": {},
   "outputs": [],
   "source": [
    "# X = df - coluna target\n",
    "X = np.array(df.drop('target', axis=1))\n",
    "# y = coluna target\n",
    "y = np.array(df.target)"
   ]
  },
  {
   "cell_type": "code",
   "execution_count": 125,
   "id": "f85b3e23",
   "metadata": {},
   "outputs": [],
   "source": [
    "#Shuffle dataset\n",
    "from sklearn.utils import shuffle\n",
    "trainX, trainY = shuffle (X,y, random_state=0)"
   ]
  },
  {
   "cell_type": "code",
   "execution_count": 126,
   "id": "5f25bf8b",
   "metadata": {},
   "outputs": [],
   "source": [
    "#hot-encode labels\n",
    "from sklearn.preprocessing import LabelEncoder\n",
    "\n",
    "out_encoder = LabelEncoder()\n",
    "out_encoder.fit(trainY)\n",
    "trainY = out_encoder.transform(trainY)"
   ]
  },
  {
   "cell_type": "code",
   "execution_count": 127,
   "id": "21de7333",
   "metadata": {},
   "outputs": [
    {
     "data": {
      "text/html": [
       "<div>\n",
       "<style scoped>\n",
       "    .dataframe tbody tr th:only-of-type {\n",
       "        vertical-align: middle;\n",
       "    }\n",
       "\n",
       "    .dataframe tbody tr th {\n",
       "        vertical-align: top;\n",
       "    }\n",
       "\n",
       "    .dataframe thead th {\n",
       "        text-align: right;\n",
       "    }\n",
       "</style>\n",
       "<table border=\"1\" class=\"dataframe\">\n",
       "  <thead>\n",
       "    <tr style=\"text-align: right;\">\n",
       "      <th></th>\n",
       "      <th>0</th>\n",
       "      <th>1</th>\n",
       "      <th>2</th>\n",
       "      <th>3</th>\n",
       "      <th>4</th>\n",
       "      <th>5</th>\n",
       "      <th>6</th>\n",
       "      <th>7</th>\n",
       "      <th>8</th>\n",
       "      <th>9</th>\n",
       "      <th>...</th>\n",
       "      <th>119</th>\n",
       "      <th>120</th>\n",
       "      <th>121</th>\n",
       "      <th>122</th>\n",
       "      <th>123</th>\n",
       "      <th>124</th>\n",
       "      <th>125</th>\n",
       "      <th>126</th>\n",
       "      <th>127</th>\n",
       "      <th>target</th>\n",
       "    </tr>\n",
       "  </thead>\n",
       "  <tbody>\n",
       "    <tr>\n",
       "      <th>0</th>\n",
       "      <td>-1.523675</td>\n",
       "      <td>-3.057675</td>\n",
       "      <td>2.235133</td>\n",
       "      <td>-0.341293</td>\n",
       "      <td>0.063947</td>\n",
       "      <td>-0.893874</td>\n",
       "      <td>-0.114136</td>\n",
       "      <td>1.836419</td>\n",
       "      <td>1.097465</td>\n",
       "      <td>-0.637791</td>\n",
       "      <td>...</td>\n",
       "      <td>-1.260578</td>\n",
       "      <td>1.376232</td>\n",
       "      <td>-0.643364</td>\n",
       "      <td>-0.448841</td>\n",
       "      <td>0.396284</td>\n",
       "      <td>-0.904877</td>\n",
       "      <td>-0.035660</td>\n",
       "      <td>-0.535704</td>\n",
       "      <td>0.196821</td>\n",
       "      <td>Dessa</td>\n",
       "    </tr>\n",
       "    <tr>\n",
       "      <th>1</th>\n",
       "      <td>-0.495632</td>\n",
       "      <td>-1.320794</td>\n",
       "      <td>2.360189</td>\n",
       "      <td>-0.847709</td>\n",
       "      <td>-0.204602</td>\n",
       "      <td>-0.841331</td>\n",
       "      <td>1.006684</td>\n",
       "      <td>1.754102</td>\n",
       "      <td>1.165373</td>\n",
       "      <td>-0.595010</td>\n",
       "      <td>...</td>\n",
       "      <td>-1.281500</td>\n",
       "      <td>1.451785</td>\n",
       "      <td>-0.256364</td>\n",
       "      <td>0.381176</td>\n",
       "      <td>-1.250163</td>\n",
       "      <td>-1.245942</td>\n",
       "      <td>-0.110298</td>\n",
       "      <td>-0.262677</td>\n",
       "      <td>-0.047439</td>\n",
       "      <td>Dessa</td>\n",
       "    </tr>\n",
       "    <tr>\n",
       "      <th>2</th>\n",
       "      <td>-2.179586</td>\n",
       "      <td>-2.875246</td>\n",
       "      <td>1.996602</td>\n",
       "      <td>-0.845462</td>\n",
       "      <td>0.786506</td>\n",
       "      <td>-0.807546</td>\n",
       "      <td>1.108842</td>\n",
       "      <td>1.902001</td>\n",
       "      <td>0.851351</td>\n",
       "      <td>-0.701958</td>\n",
       "      <td>...</td>\n",
       "      <td>-2.290497</td>\n",
       "      <td>1.660553</td>\n",
       "      <td>0.071010</td>\n",
       "      <td>-0.961497</td>\n",
       "      <td>-0.422987</td>\n",
       "      <td>-1.232594</td>\n",
       "      <td>-0.483871</td>\n",
       "      <td>-1.079012</td>\n",
       "      <td>-0.511883</td>\n",
       "      <td>Dessa</td>\n",
       "    </tr>\n",
       "    <tr>\n",
       "      <th>3</th>\n",
       "      <td>-0.808715</td>\n",
       "      <td>-1.780204</td>\n",
       "      <td>0.966140</td>\n",
       "      <td>-0.932362</td>\n",
       "      <td>0.719983</td>\n",
       "      <td>0.031120</td>\n",
       "      <td>0.716178</td>\n",
       "      <td>1.465917</td>\n",
       "      <td>1.569647</td>\n",
       "      <td>-0.558551</td>\n",
       "      <td>...</td>\n",
       "      <td>-1.817197</td>\n",
       "      <td>2.587652</td>\n",
       "      <td>0.108394</td>\n",
       "      <td>-0.914538</td>\n",
       "      <td>0.068641</td>\n",
       "      <td>-0.396750</td>\n",
       "      <td>-0.759598</td>\n",
       "      <td>-0.806594</td>\n",
       "      <td>0.179841</td>\n",
       "      <td>Dessa</td>\n",
       "    </tr>\n",
       "    <tr>\n",
       "      <th>4</th>\n",
       "      <td>-1.365400</td>\n",
       "      <td>-2.052475</td>\n",
       "      <td>2.176363</td>\n",
       "      <td>-0.699374</td>\n",
       "      <td>0.687984</td>\n",
       "      <td>0.476967</td>\n",
       "      <td>0.725367</td>\n",
       "      <td>1.700635</td>\n",
       "      <td>1.214217</td>\n",
       "      <td>-1.893633</td>\n",
       "      <td>...</td>\n",
       "      <td>-1.067907</td>\n",
       "      <td>1.063823</td>\n",
       "      <td>-0.322278</td>\n",
       "      <td>0.603204</td>\n",
       "      <td>-0.668626</td>\n",
       "      <td>0.130464</td>\n",
       "      <td>0.175355</td>\n",
       "      <td>-0.407748</td>\n",
       "      <td>-0.088077</td>\n",
       "      <td>Dessa</td>\n",
       "    </tr>\n",
       "  </tbody>\n",
       "</table>\n",
       "<p>5 rows × 129 columns</p>\n",
       "</div>"
      ],
      "text/plain": [
       "          0         1         2         3         4         5         6  \\\n",
       "0 -1.523675 -3.057675  2.235133 -0.341293  0.063947 -0.893874 -0.114136   \n",
       "1 -0.495632 -1.320794  2.360189 -0.847709 -0.204602 -0.841331  1.006684   \n",
       "2 -2.179586 -2.875246  1.996602 -0.845462  0.786506 -0.807546  1.108842   \n",
       "3 -0.808715 -1.780204  0.966140 -0.932362  0.719983  0.031120  0.716178   \n",
       "4 -1.365400 -2.052475  2.176363 -0.699374  0.687984  0.476967  0.725367   \n",
       "\n",
       "          7         8         9  ...       119       120       121       122  \\\n",
       "0  1.836419  1.097465 -0.637791  ... -1.260578  1.376232 -0.643364 -0.448841   \n",
       "1  1.754102  1.165373 -0.595010  ... -1.281500  1.451785 -0.256364  0.381176   \n",
       "2  1.902001  0.851351 -0.701958  ... -2.290497  1.660553  0.071010 -0.961497   \n",
       "3  1.465917  1.569647 -0.558551  ... -1.817197  2.587652  0.108394 -0.914538   \n",
       "4  1.700635  1.214217 -1.893633  ... -1.067907  1.063823 -0.322278  0.603204   \n",
       "\n",
       "        123       124       125       126       127  target  \n",
       "0  0.396284 -0.904877 -0.035660 -0.535704  0.196821   Dessa  \n",
       "1 -1.250163 -1.245942 -0.110298 -0.262677 -0.047439   Dessa  \n",
       "2 -0.422987 -1.232594 -0.483871 -1.079012 -0.511883   Dessa  \n",
       "3  0.068641 -0.396750 -0.759598 -0.806594  0.179841   Dessa  \n",
       "4 -0.668626  0.130464  0.175355 -0.407748 -0.088077   Dessa  \n",
       "\n",
       "[5 rows x 129 columns]"
      ]
     },
     "execution_count": 127,
     "metadata": {},
     "output_type": "execute_result"
    }
   ],
   "source": [
    "#validation\n",
    "df_val = pd.read_csv('faces_validation_embeddings.csv',index_col=0)\n",
    "df_val.head(5)"
   ]
  },
  {
   "cell_type": "code",
   "execution_count": 128,
   "id": "0110a166",
   "metadata": {},
   "outputs": [],
   "source": [
    "#split X and Y validation\n",
    "valX = np.array(df_val.drop('target',axis=1))\n",
    "valY = np.array(df_val.target)"
   ]
  },
  {
   "cell_type": "code",
   "execution_count": 129,
   "id": "f5246be0",
   "metadata": {},
   "outputs": [],
   "source": [
    "#hot encoder validation Y\n",
    "out_encoder.fit(valY)\n",
    "valY = out_encoder.transform(valY)"
   ]
  },
  {
   "cell_type": "markdown",
   "id": "33790bd4",
   "metadata": {},
   "source": [
    "# Evaluating algorithms"
   ]
  },
  {
   "cell_type": "markdown",
   "id": "2b2b4f91",
   "metadata": {},
   "source": [
    "### KNN"
   ]
  },
  {
   "cell_type": "code",
   "execution_count": 130,
   "id": "47263773",
   "metadata": {},
   "outputs": [],
   "source": [
    "\n",
    "from sklearn.neighbors import KNeighborsClassifier"
   ]
  },
  {
   "cell_type": "code",
   "execution_count": 131,
   "id": "f23f642d",
   "metadata": {},
   "outputs": [],
   "source": [
    "knn = KNeighborsClassifier(n_neighbors=5)"
   ]
  },
  {
   "cell_type": "code",
   "execution_count": 132,
   "id": "3b744c6c",
   "metadata": {},
   "outputs": [
    {
     "data": {
      "text/plain": [
       "KNeighborsClassifier()"
      ]
     },
     "execution_count": 132,
     "metadata": {},
     "output_type": "execute_result"
    }
   ],
   "source": [
    "knn.fit(trainX, trainY)"
   ]
  },
  {
   "cell_type": "code",
   "execution_count": 133,
   "id": "35789d57",
   "metadata": {
    "scrolled": true
   },
   "outputs": [],
   "source": [
    "#evaluate the knn model\n",
    "yhat_train = knn.predict(trainX)\n",
    "yhat_val = knn.predict(valX)               "
   ]
  },
  {
   "cell_type": "code",
   "execution_count": 134,
   "id": "009c2cb5",
   "metadata": {},
   "outputs": [],
   "source": [
    "#load labels\n",
    "labels = {}\n",
    "with open(\"labels.picle\", \"rb\") as f:\n",
    "    og_labels = pickle.load(f)\n",
    "    labels = {v:k for k,v in og_labels.items()}"
   ]
  },
  {
   "cell_type": "code",
   "execution_count": 135,
   "id": "659d99b8",
   "metadata": {},
   "outputs": [],
   "source": [
    "from sklearn.metrics import confusion_matrix\n",
    "def print_confusion_matrix(model_name, valY, yhat_val):\n",
    "    cm = confusion_matrix(valY, yhat_val)\n",
    "    total = sum(sum(cm))\n",
    "    acc = (cm[0,0]+cm[1,1]+cm[2,2])/ total\n",
    "    sensitivity = cm[0,0]/(cm[0,0] + cm[0,1])\n",
    "    specificity = cm[1,1]/(cm[1,0] + cm[1,1])\n",
    "    \n",
    "    print(\"Modelo: {}\".format(model_name))\n",
    "    print(\"Acurácia: {:4f}\".format(acc))\n",
    "    print(\"Sensitividade: {:4f}\".format(sensitivity))\n",
    "    print(\"Especificidade: {:4f}\".format(specificity))\n",
    "    \n",
    "    from mlxtend.plotting import plot_confusion_matrix\n",
    "    fig, ax = plot_confusion_matrix(conf_mat=cm, figsize=(5,5))\n",
    "    plt.show()"
   ]
  },
  {
   "cell_type": "code",
   "execution_count": 136,
   "id": "024fe665",
   "metadata": {},
   "outputs": [],
   "source": [
    "# Save the trained model as a pickle string.\n",
    "with open('knn_file','wb') as f:\n",
    "    pickle.dump(knn, f)"
   ]
  },
  {
   "cell_type": "code",
   "execution_count": 137,
   "id": "97b8214b",
   "metadata": {},
   "outputs": [
    {
     "name": "stdout",
     "output_type": "stream",
     "text": [
      "Modelo: KNN\n",
      "Acurácia: 1.000000\n",
      "Sensitividade: 1.000000\n",
      "Especificidade: 1.000000\n"
     ]
    },
    {
     "data": {
      "image/png": "[encoded data removed]",
      "text/plain": [
       "<Figure size 360x360 with 1 Axes>"
      ]
     },
     "metadata": {
      "needs_background": "light"
     },
     "output_type": "display_data"
    }
   ],
   "source": [
    "print_confusion_matrix(\"KNN\",valY,yhat_val)"
   ]
  },
  {
   "cell_type": "markdown",
   "id": "e1c8159d",
   "metadata": {},
   "source": [
    "### SVM"
   ]
  },
  {
   "cell_type": "code",
   "execution_count": 138,
   "id": "746bb717",
   "metadata": {},
   "outputs": [
    {
     "data": {
      "text/plain": [
       "SVC()"
      ]
     },
     "execution_count": 138,
     "metadata": {},
     "output_type": "execute_result"
    }
   ],
   "source": [
    "from sklearn import svm\n",
    "\n",
    "svm = svm.SVC()\n",
    "svm.fit(trainX, trainY)"
   ]
  },
  {
   "cell_type": "code",
   "execution_count": 139,
   "id": "6dfd3647",
   "metadata": {},
   "outputs": [],
   "source": [
    "#evaluate the knn model\n",
    "yhat_train = svm.predict(trainX)\n",
    "yhat_val = svm.predict(valX)"
   ]
  },
  {
   "cell_type": "code",
   "execution_count": 140,
   "id": "7884234e",
   "metadata": {},
   "outputs": [],
   "source": [
    "#save trained model as pickle string\n",
    "with open('svm_file','wb') as f:\n",
    "    pickle.dump(knn, f)"
   ]
  },
  {
   "cell_type": "code",
   "execution_count": 141,
   "id": "3524da54",
   "metadata": {
    "scrolled": true
   },
   "outputs": [
    {
     "name": "stdout",
     "output_type": "stream",
     "text": [
      "Modelo: SVM\n",
      "Acurácia: 1.000000\n",
      "Sensitividade: 1.000000\n",
      "Especificidade: 1.000000\n"
     ]
    },
    {
     "data": {
      "image/png": "[encoded data removed]",
      "text/plain": [
       "<Figure size 360x360 with 1 Axes>"
      ]
     },
     "metadata": {
      "needs_background": "light"
     },
     "output_type": "display_data"
    }
   ],
   "source": [
    "print_confusion_matrix(\"SVM\", valY, yhat_val)"
   ]
  },
  {
   "cell_type": "markdown",
   "id": "3baf368f",
   "metadata": {},
   "source": [
    "### Multilayer perceptron"
   ]
  },
  {
   "cell_type": "code",
   "execution_count": 142,
   "id": "779c752e",
   "metadata": {},
   "outputs": [],
   "source": [
    "from tensorflow.keras.utils import to_categorical"
   ]
  },
  {
   "cell_type": "code",
   "execution_count": 143,
   "id": "e448d611",
   "metadata": {},
   "outputs": [],
   "source": [
    "#classe vira uma posicao (class 1, class 2)\n",
    "trainY = to_categorical(trainY)\n",
    "valY = to_categorical(valY)"
   ]
  },
  {
   "cell_type": "code",
   "execution_count": 144,
   "id": "cd6261d5",
   "metadata": {},
   "outputs": [],
   "source": [
    "from tensorflow.keras import models\n",
    "from tensorflow.keras import layers"
   ]
  },
  {
   "cell_type": "code",
   "execution_count": 145,
   "id": "943a32c8",
   "metadata": {},
   "outputs": [
    {
     "name": "stdout",
     "output_type": "stream",
     "text": [
      "Model: \"sequential\"\n",
      "_________________________________________________________________\n",
      "Layer (type)                 Output Shape              Param #   \n",
      "=================================================================\n",
      "dense (Dense)                (None, 64)                8256      \n",
      "_________________________________________________________________\n",
      "dropout (Dropout)            (None, 64)                0         \n",
      "_________________________________________________________________\n",
      "dense_1 (Dense)              (None, 3)                 195       \n",
      "=================================================================\n",
      "Total params: 8,451\n",
      "Trainable params: 8,451\n",
      "Non-trainable params: 0\n",
      "_________________________________________________________________\n"
     ]
    }
   ],
   "source": [
    "model = models.Sequential()\n",
    "model.add(layers.Dense(64,activation=\"relu\",input_shape=(128,)))\n",
    "model.add(layers.Dropout(0.5))\n",
    "model.add(layers.Dense(3,activation=\"softmax\"))\n",
    "\n",
    "model.summary()"
   ]
  },
  {
   "cell_type": "code",
   "execution_count": 146,
   "id": "141f980a",
   "metadata": {},
   "outputs": [],
   "source": [
    "import tensorflow as tf\n",
    "model.compile(optimizer=\"adam\",\n",
    "             loss = \"categorical_crossentropy\",\n",
    "             metrics = ['accuracy'])\n",
    "\n"
   ]
  },
  {
   "cell_type": "code",
   "execution_count": 147,
   "id": "a599319a",
   "metadata": {
    "scrolled": true
   },
   "outputs": [
    {
     "name": "stdout",
     "output_type": "stream",
     "text": [
      "Train on 140 samples\n",
      "Epoch 1/5\n",
      "140/140 [==============================] - 1s 4ms/sample - loss: 0.8774 - accuracy: 0.6571\n",
      "Epoch 2/5\n",
      "140/140 [==============================] - 0s 278us/sample - loss: 0.1453 - accuracy: 0.9643\n",
      "Epoch 3/5\n",
      "140/140 [==============================] - 0s 285us/sample - loss: 0.0517 - accuracy: 1.0000\n",
      "Epoch 4/5\n",
      "140/140 [==============================] - 0s 271us/sample - loss: 0.0258 - accuracy: 1.0000\n",
      "Epoch 5/5\n",
      "140/140 [==============================] - 0s 265us/sample - loss: 0.0324 - accuracy: 1.0000\n"
     ]
    }
   ],
   "source": [
    "model.fit(trainX, trainY, epochs=5, batch_size=8)\n",
    "model.save(\"test.h5\")"
   ]
  },
  {
   "cell_type": "code",
   "execution_count": 148,
   "id": "ec3721b6",
   "metadata": {},
   "outputs": [],
   "source": [
    "#evaluate the knn model\n",
    "yhat_train = model.predict(trainX)\n",
    "yhat_val = model.predict(valX)"
   ]
  },
  {
   "cell_type": "code",
   "execution_count": 149,
   "id": "e6be4ea6",
   "metadata": {},
   "outputs": [],
   "source": [
    "valY = np.argmax(valY, axis=1)\n",
    "yhat_val = np.argmax(yhat_val, axis=1)"
   ]
  },
  {
   "cell_type": "code",
   "execution_count": 150,
   "id": "0b6a4a05",
   "metadata": {},
   "outputs": [
    {
     "data": {
      "image/png": "[encoded data removed]",
      "text/plain": [
       "<Figure size 360x360 with 1 Axes>"
      ]
     },
     "metadata": {
      "needs_background": "light"
     },
     "output_type": "display_data"
    }
   ],
   "source": [
    "    from mlxtend.plotting import plot_confusion_matrix\n",
    "    cm = confusion_matrix(valY, yhat_val)\n",
    "    fig, ax = plot_confusion_matrix(conf_mat=cm, figsize=(5,5))\n",
    "    plt.show()"
   ]
  }
 ],
 "metadata": {
  "kernelspec": {
   "display_name": "Python 3 (ipykernel)",
   "language": "python",
   "name": "python3"
  },
  "language_info": {
   "codemirror_mode": {
    "name": "ipython",
    "version": 3
   },
   "file_extension": ".py",
   "mimetype": "text/x-python",
   "name": "python",
   "nbconvert_exporter": "python",
   "pygments_lexer": "ipython3",
   "version": "3.7.4"
  }
 },
 "nbformat": 4,
 "nbformat_minor": 5
}
