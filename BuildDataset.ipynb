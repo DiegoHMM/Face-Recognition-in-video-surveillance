{
 "cells": [
  {
   "cell_type": "code",
   "execution_count": 1,
   "id": "6c7e3378",
   "metadata": {},
   "outputs": [
    {
     "name": "stderr",
     "output_type": "stream",
     "text": [
      "Using TensorFlow backend.\n"
     ]
    }
   ],
   "source": [
    "import os\n",
    "from os import listdir\n",
    "from PIL import Image\n",
    "from numpy import asarray\n",
    "from numpy import expand_dims\n",
    "from matplotlib import pyplot\n",
    "from keras.models import load_model\n",
    "import numpy as np\n",
    "import time\n",
    "import pickle\n",
    "\n",
    "import pickle\n",
    "import cv2\n"
   ]
  },
  {
   "cell_type": "code",
   "execution_count": 2,
   "id": "2136a568",
   "metadata": {},
   "outputs": [],
   "source": [
    "face_cascade = cv2.CascadeClassifier('cascades/data/haarcascade_frontalface_alt2.xml')"
   ]
  },
  {
   "cell_type": "code",
   "execution_count": 3,
   "id": "2939fd9b",
   "metadata": {},
   "outputs": [],
   "source": [
    "#CREATE FILE WITH LABELS\n",
    "import os\n",
    "image_dir = os.path.join(\"./Dataset/Treino/\")\n",
    "label_ids = {}\n",
    "current_id = 0\n",
    "\n",
    "for root, dirs, files in os.walk(image_dir):\n",
    "    for file in files:\n",
    "        if file.endswith(\"png\") or file.endswith(\"jpg\"):\n",
    "            path = os.path.join(root, file)\n",
    "            label = os.path.basename(root).replace(\" \", \"-\").lower()\n",
    "            #print(label, path)\n",
    "            if not label in label_ids:\n",
    "                label_ids[label] = current_id\n",
    "                current_id += 1\n",
    "            id_ = label_ids[label]\n",
    "\n",
    "with open(\"labels.picle\", \"wb\") as f:\n",
    "    pickle.dump(label_ids, f)"
   ]
  },
  {
   "cell_type": "code",
   "execution_count": 4,
   "id": "7d25bc94",
   "metadata": {},
   "outputs": [],
   "source": [
    "folder = './Dataset/Treino/Diego/'\n",
    "i = 29\n",
    "cap = cv2.VideoCapture(0)\n",
    "while(True):\n",
    "    #get frame by frame\n",
    "    ret, frame = cap.read()\n",
    "    \n",
    "    faces = face_cascade.detectMultiScale(frame, scaleFactor=1.5, minNeighbors=5)\n",
    "    for (x, y, w, h) in faces:\n",
    "        roi = frame[y:y+w, x:x+h,:]\n",
    "        roi = Image.fromarray(roi)                       \n",
    "        roi = roi.resize((160,160))\n",
    "        roi = asarray(roi)\n",
    "        cv2.imwrite(folder + str(i) + \".png\",roi)\n",
    "        time.sleep(2) # Sleep for 2 seconds\n",
    "        i += 1\n",
    "        roi = np.expand_dims(roi, 0)\n",
    "\n",
    "    cv2.imshow('frame',frame)\n",
    "    if cv2.waitKey(20) & 0xFF == ord('q'):\n",
    "        break"
   ]
  },
  {
   "cell_type": "code",
   "execution_count": null,
   "id": "1dc9aeaa",
   "metadata": {},
   "outputs": [],
   "source": []
  },
  {
   "cell_type": "code",
   "execution_count": null,
   "id": "10959608",
   "metadata": {},
   "outputs": [],
   "source": []
  },
  {
   "cell_type": "code",
   "execution_count": null,
   "id": "36abd011",
   "metadata": {},
   "outputs": [],
   "source": []
  },
  {
   "cell_type": "code",
   "execution_count": null,
   "id": "fb534899",
   "metadata": {},
   "outputs": [],
   "source": []
  }
 ],
 "metadata": {
  "kernelspec": {
   "display_name": "Python 3 (ipykernel)",
   "language": "python",
   "name": "python3"
  },
  "language_info": {
   "codemirror_mode": {
    "name": "ipython",
    "version": 3
   },
   "file_extension": ".py",
   "mimetype": "text/x-python",
   "name": "python",
   "nbconvert_exporter": "python",
   "pygments_lexer": "ipython3",
   "version": "3.7.4"
  }
 },
 "nbformat": 4,
 "nbformat_minor": 5
}
